{
 "cells": [
  {
   "cell_type": "markdown",
   "id": "4c404e05",
   "metadata": {},
   "source": [
    "First we're going to import relevant libraries and load our data:"
   ]
  },
  {
   "cell_type": "code",
   "execution_count": 83,
   "id": "40a28a1d",
   "metadata": {},
   "outputs": [],
   "source": [
    "import pandas as pd\n",
    "raw = pd.read_csv('C:\\\\Users\\Selfisher\\Desktop\\data.csv', '\\t') \n",
    "# read more about this data in the readme file"
   ]
  },
  {
   "cell_type": "code",
   "execution_count": 84,
   "id": "46d89236",
   "metadata": {
    "scrolled": true
   },
   "outputs": [
    {
     "data": {
      "text/html": [
       "<div>\n",
       "<style scoped>\n",
       "    .dataframe tbody tr th:only-of-type {\n",
       "        vertical-align: middle;\n",
       "    }\n",
       "\n",
       "    .dataframe tbody tr th {\n",
       "        vertical-align: top;\n",
       "    }\n",
       "\n",
       "    .dataframe thead th {\n",
       "        text-align: right;\n",
       "    }\n",
       "</style>\n",
       "<table border=\"1\" class=\"dataframe\">\n",
       "  <thead>\n",
       "    <tr style=\"text-align: right;\">\n",
       "      <th></th>\n",
       "      <th>race</th>\n",
       "      <th>age</th>\n",
       "      <th>engnat</th>\n",
       "      <th>gender</th>\n",
       "      <th>hand</th>\n",
       "      <th>source</th>\n",
       "      <th>country</th>\n",
       "      <th>E1</th>\n",
       "      <th>E2</th>\n",
       "      <th>E3</th>\n",
       "      <th>...</th>\n",
       "      <th>O1</th>\n",
       "      <th>O2</th>\n",
       "      <th>O3</th>\n",
       "      <th>O4</th>\n",
       "      <th>O5</th>\n",
       "      <th>O6</th>\n",
       "      <th>O7</th>\n",
       "      <th>O8</th>\n",
       "      <th>O9</th>\n",
       "      <th>O10</th>\n",
       "    </tr>\n",
       "  </thead>\n",
       "  <tbody>\n",
       "    <tr>\n",
       "      <th>0</th>\n",
       "      <td>3</td>\n",
       "      <td>53</td>\n",
       "      <td>1</td>\n",
       "      <td>1</td>\n",
       "      <td>1</td>\n",
       "      <td>1</td>\n",
       "      <td>US</td>\n",
       "      <td>4</td>\n",
       "      <td>2</td>\n",
       "      <td>5</td>\n",
       "      <td>...</td>\n",
       "      <td>4</td>\n",
       "      <td>1</td>\n",
       "      <td>3</td>\n",
       "      <td>1</td>\n",
       "      <td>5</td>\n",
       "      <td>1</td>\n",
       "      <td>4</td>\n",
       "      <td>2</td>\n",
       "      <td>5</td>\n",
       "      <td>5</td>\n",
       "    </tr>\n",
       "    <tr>\n",
       "      <th>1</th>\n",
       "      <td>13</td>\n",
       "      <td>46</td>\n",
       "      <td>1</td>\n",
       "      <td>2</td>\n",
       "      <td>1</td>\n",
       "      <td>1</td>\n",
       "      <td>US</td>\n",
       "      <td>2</td>\n",
       "      <td>2</td>\n",
       "      <td>3</td>\n",
       "      <td>...</td>\n",
       "      <td>3</td>\n",
       "      <td>3</td>\n",
       "      <td>3</td>\n",
       "      <td>3</td>\n",
       "      <td>2</td>\n",
       "      <td>3</td>\n",
       "      <td>3</td>\n",
       "      <td>1</td>\n",
       "      <td>3</td>\n",
       "      <td>2</td>\n",
       "    </tr>\n",
       "    <tr>\n",
       "      <th>2</th>\n",
       "      <td>1</td>\n",
       "      <td>14</td>\n",
       "      <td>2</td>\n",
       "      <td>2</td>\n",
       "      <td>1</td>\n",
       "      <td>1</td>\n",
       "      <td>PK</td>\n",
       "      <td>5</td>\n",
       "      <td>1</td>\n",
       "      <td>1</td>\n",
       "      <td>...</td>\n",
       "      <td>4</td>\n",
       "      <td>5</td>\n",
       "      <td>5</td>\n",
       "      <td>1</td>\n",
       "      <td>5</td>\n",
       "      <td>1</td>\n",
       "      <td>5</td>\n",
       "      <td>5</td>\n",
       "      <td>5</td>\n",
       "      <td>5</td>\n",
       "    </tr>\n",
       "    <tr>\n",
       "      <th>3</th>\n",
       "      <td>3</td>\n",
       "      <td>19</td>\n",
       "      <td>2</td>\n",
       "      <td>2</td>\n",
       "      <td>1</td>\n",
       "      <td>1</td>\n",
       "      <td>RO</td>\n",
       "      <td>2</td>\n",
       "      <td>5</td>\n",
       "      <td>2</td>\n",
       "      <td>...</td>\n",
       "      <td>4</td>\n",
       "      <td>3</td>\n",
       "      <td>5</td>\n",
       "      <td>2</td>\n",
       "      <td>4</td>\n",
       "      <td>2</td>\n",
       "      <td>5</td>\n",
       "      <td>2</td>\n",
       "      <td>5</td>\n",
       "      <td>5</td>\n",
       "    </tr>\n",
       "    <tr>\n",
       "      <th>4</th>\n",
       "      <td>11</td>\n",
       "      <td>25</td>\n",
       "      <td>2</td>\n",
       "      <td>2</td>\n",
       "      <td>1</td>\n",
       "      <td>2</td>\n",
       "      <td>US</td>\n",
       "      <td>3</td>\n",
       "      <td>1</td>\n",
       "      <td>3</td>\n",
       "      <td>...</td>\n",
       "      <td>3</td>\n",
       "      <td>1</td>\n",
       "      <td>1</td>\n",
       "      <td>1</td>\n",
       "      <td>3</td>\n",
       "      <td>1</td>\n",
       "      <td>3</td>\n",
       "      <td>1</td>\n",
       "      <td>5</td>\n",
       "      <td>3</td>\n",
       "    </tr>\n",
       "  </tbody>\n",
       "</table>\n",
       "<p>5 rows × 57 columns</p>\n",
       "</div>"
      ],
      "text/plain": [
       "   race  age  engnat  gender  hand  source country  E1  E2  E3  ...  O1  O2  \\\n",
       "0     3   53       1       1     1       1      US   4   2   5  ...   4   1   \n",
       "1    13   46       1       2     1       1      US   2   2   3  ...   3   3   \n",
       "2     1   14       2       2     1       1      PK   5   1   1  ...   4   5   \n",
       "3     3   19       2       2     1       1      RO   2   5   2  ...   4   3   \n",
       "4    11   25       2       2     1       2      US   3   1   3  ...   3   1   \n",
       "\n",
       "   O3  O4  O5  O6  O7  O8  O9  O10  \n",
       "0   3   1   5   1   4   2   5    5  \n",
       "1   3   3   2   3   3   1   3    2  \n",
       "2   5   1   5   1   5   5   5    5  \n",
       "3   5   2   4   2   5   2   5    5  \n",
       "4   1   1   3   1   3   1   5    3  \n",
       "\n",
       "[5 rows x 57 columns]"
      ]
     },
     "execution_count": 84,
     "metadata": {},
     "output_type": "execute_result"
    }
   ],
   "source": [
    "raw.head() # Let's see how the data looks like"
   ]
  },
  {
   "cell_type": "code",
   "execution_count": 85,
   "id": "fff36410",
   "metadata": {},
   "outputs": [
    {
     "data": {
      "text/plain": [
       "<AxesSubplot:>"
      ]
     },
     "execution_count": 85,
     "metadata": {},
     "output_type": "execute_result"
    },
    {
     "data": {
      "image/png": "[encoded data removed]",
      "text/plain": [
       "<Figure size 720x504 with 1 Axes>"
      ]
     },
     "metadata": {
      "needs_background": "light"
     },
     "output_type": "display_data"
    }
   ],
   "source": [
    "raw['age'].value_counts().plot(kind='barh',figsize=(10,7)) \n",
    "# some people enterd their year of birth by accidant"
   ]
  },
  {
   "cell_type": "code",
   "execution_count": 86,
   "id": "a1001d21",
   "metadata": {},
   "outputs": [],
   "source": [
    "raw.loc[raw['age']>1900, 'age'] = 2012 - raw.loc[raw['age']>1900, 'age']"
   ]
  },
  {
   "cell_type": "code",
   "execution_count": 87,
   "id": "53dda732",
   "metadata": {},
   "outputs": [
    {
     "data": {
      "text/plain": [
       "<AxesSubplot:>"
      ]
     },
     "execution_count": 87,
     "metadata": {},
     "output_type": "execute_result"
    },
    {
     "data": {
      "image/png": "[encoded data removed]",
      "text/plain": [
       "<Figure size 720x504 with 1 Axes>"
      ]
     },
     "metadata": {
      "needs_background": "light"
     },
     "output_type": "display_data"
    }
   ],
   "source": [
    "raw['age'].value_counts().plot(kind='barh',figsize=(10,7)) \n",
    "# fixed some of it, but some still dont make sense"
   ]
  },
  {
   "cell_type": "code",
   "execution_count": 88,
   "id": "c3cbd8a0",
   "metadata": {},
   "outputs": [],
   "source": [
    "raw = raw[raw.age < 100]\n",
    "raw = raw[raw.age >= 15]"
   ]
  },
  {
   "cell_type": "code",
   "execution_count": 89,
   "id": "601d5078",
   "metadata": {},
   "outputs": [
    {
     "data": {
      "text/plain": [
       "<AxesSubplot:>"
      ]
     },
     "execution_count": 89,
     "metadata": {},
     "output_type": "execute_result"
    },
    {
     "data": {
      "image/png": "[encoded data removed]",
      "text/plain": [
       "<Figure size 720x504 with 1 Axes>"
      ]
     },
     "metadata": {
      "needs_background": "light"
     },
     "output_type": "display_data"
    }
   ],
   "source": [
    "raw['age'].value_counts().plot(kind='barh',figsize=(10,7))\n",
    "# now only truthful subjects are included"
   ]
  },
  {
   "cell_type": "code",
   "execution_count": 90,
   "id": "010c4f90",
   "metadata": {},
   "outputs": [],
   "source": [
    "raw = raw.drop('age', axis=1).drop('engnat', axis=1).drop('race', axis=1).drop('hand', axis=1).drop('source', axis=1)\n",
    "# droping these columns for now, but the country column might be relevant"
   ]
  },
  {
   "cell_type": "code",
   "execution_count": 91,
   "id": "6c266107",
   "metadata": {},
   "outputs": [
    {
     "data": {
      "text/html": [
       "<div>\n",
       "<style scoped>\n",
       "    .dataframe tbody tr th:only-of-type {\n",
       "        vertical-align: middle;\n",
       "    }\n",
       "\n",
       "    .dataframe tbody tr th {\n",
       "        vertical-align: top;\n",
       "    }\n",
       "\n",
       "    .dataframe thead th {\n",
       "        text-align: right;\n",
       "    }\n",
       "</style>\n",
       "<table border=\"1\" class=\"dataframe\">\n",
       "  <thead>\n",
       "    <tr style=\"text-align: right;\">\n",
       "      <th></th>\n",
       "      <th>gender</th>\n",
       "      <th>country</th>\n",
       "      <th>E1</th>\n",
       "      <th>E2</th>\n",
       "      <th>E3</th>\n",
       "      <th>E4</th>\n",
       "      <th>E5</th>\n",
       "      <th>E6</th>\n",
       "      <th>E7</th>\n",
       "      <th>E8</th>\n",
       "      <th>...</th>\n",
       "      <th>O1</th>\n",
       "      <th>O2</th>\n",
       "      <th>O3</th>\n",
       "      <th>O4</th>\n",
       "      <th>O5</th>\n",
       "      <th>O6</th>\n",
       "      <th>O7</th>\n",
       "      <th>O8</th>\n",
       "      <th>O9</th>\n",
       "      <th>O10</th>\n",
       "    </tr>\n",
       "  </thead>\n",
       "  <tbody>\n",
       "    <tr>\n",
       "      <th>0</th>\n",
       "      <td>1</td>\n",
       "      <td>US</td>\n",
       "      <td>4</td>\n",
       "      <td>2</td>\n",
       "      <td>5</td>\n",
       "      <td>2</td>\n",
       "      <td>5</td>\n",
       "      <td>1</td>\n",
       "      <td>4</td>\n",
       "      <td>3</td>\n",
       "      <td>...</td>\n",
       "      <td>4</td>\n",
       "      <td>1</td>\n",
       "      <td>3</td>\n",
       "      <td>1</td>\n",
       "      <td>5</td>\n",
       "      <td>1</td>\n",
       "      <td>4</td>\n",
       "      <td>2</td>\n",
       "      <td>5</td>\n",
       "      <td>5</td>\n",
       "    </tr>\n",
       "    <tr>\n",
       "      <th>1</th>\n",
       "      <td>2</td>\n",
       "      <td>US</td>\n",
       "      <td>2</td>\n",
       "      <td>2</td>\n",
       "      <td>3</td>\n",
       "      <td>3</td>\n",
       "      <td>3</td>\n",
       "      <td>3</td>\n",
       "      <td>1</td>\n",
       "      <td>5</td>\n",
       "      <td>...</td>\n",
       "      <td>3</td>\n",
       "      <td>3</td>\n",
       "      <td>3</td>\n",
       "      <td>3</td>\n",
       "      <td>2</td>\n",
       "      <td>3</td>\n",
       "      <td>3</td>\n",
       "      <td>1</td>\n",
       "      <td>3</td>\n",
       "      <td>2</td>\n",
       "    </tr>\n",
       "    <tr>\n",
       "      <th>3</th>\n",
       "      <td>2</td>\n",
       "      <td>RO</td>\n",
       "      <td>2</td>\n",
       "      <td>5</td>\n",
       "      <td>2</td>\n",
       "      <td>4</td>\n",
       "      <td>3</td>\n",
       "      <td>4</td>\n",
       "      <td>3</td>\n",
       "      <td>4</td>\n",
       "      <td>...</td>\n",
       "      <td>4</td>\n",
       "      <td>3</td>\n",
       "      <td>5</td>\n",
       "      <td>2</td>\n",
       "      <td>4</td>\n",
       "      <td>2</td>\n",
       "      <td>5</td>\n",
       "      <td>2</td>\n",
       "      <td>5</td>\n",
       "      <td>5</td>\n",
       "    </tr>\n",
       "    <tr>\n",
       "      <th>4</th>\n",
       "      <td>2</td>\n",
       "      <td>US</td>\n",
       "      <td>3</td>\n",
       "      <td>1</td>\n",
       "      <td>3</td>\n",
       "      <td>3</td>\n",
       "      <td>3</td>\n",
       "      <td>1</td>\n",
       "      <td>3</td>\n",
       "      <td>1</td>\n",
       "      <td>...</td>\n",
       "      <td>3</td>\n",
       "      <td>1</td>\n",
       "      <td>1</td>\n",
       "      <td>1</td>\n",
       "      <td>3</td>\n",
       "      <td>1</td>\n",
       "      <td>3</td>\n",
       "      <td>1</td>\n",
       "      <td>5</td>\n",
       "      <td>3</td>\n",
       "    </tr>\n",
       "    <tr>\n",
       "      <th>5</th>\n",
       "      <td>2</td>\n",
       "      <td>US</td>\n",
       "      <td>1</td>\n",
       "      <td>5</td>\n",
       "      <td>2</td>\n",
       "      <td>4</td>\n",
       "      <td>1</td>\n",
       "      <td>3</td>\n",
       "      <td>2</td>\n",
       "      <td>4</td>\n",
       "      <td>...</td>\n",
       "      <td>4</td>\n",
       "      <td>2</td>\n",
       "      <td>1</td>\n",
       "      <td>3</td>\n",
       "      <td>3</td>\n",
       "      <td>5</td>\n",
       "      <td>5</td>\n",
       "      <td>4</td>\n",
       "      <td>5</td>\n",
       "      <td>3</td>\n",
       "    </tr>\n",
       "  </tbody>\n",
       "</table>\n",
       "<p>5 rows × 52 columns</p>\n",
       "</div>"
      ],
      "text/plain": [
       "   gender country  E1  E2  E3  E4  E5  E6  E7  E8  ...  O1  O2  O3  O4  O5  \\\n",
       "0       1      US   4   2   5   2   5   1   4   3  ...   4   1   3   1   5   \n",
       "1       2      US   2   2   3   3   3   3   1   5  ...   3   3   3   3   2   \n",
       "3       2      RO   2   5   2   4   3   4   3   4  ...   4   3   5   2   4   \n",
       "4       2      US   3   1   3   3   3   1   3   1  ...   3   1   1   1   3   \n",
       "5       2      US   1   5   2   4   1   3   2   4  ...   4   2   1   3   3   \n",
       "\n",
       "   O6  O7  O8  O9  O10  \n",
       "0   1   4   2   5    5  \n",
       "1   3   3   1   3    2  \n",
       "3   2   5   2   5    5  \n",
       "4   1   3   1   5    3  \n",
       "5   5   5   4   5    3  \n",
       "\n",
       "[5 rows x 52 columns]"
      ]
     },
     "execution_count": 91,
     "metadata": {},
     "output_type": "execute_result"
    }
   ],
   "source": [
    "raw.head()"
   ]
  },
  {
   "cell_type": "code",
   "execution_count": 92,
   "id": "480ed206",
   "metadata": {},
   "outputs": [
    {
     "data": {
      "text/plain": [
       "country    10.0\n",
       "dtype: float64"
      ]
     },
     "execution_count": 92,
     "metadata": {},
     "output_type": "execute_result"
    }
   ],
   "source": [
    "countries = pd.DataFrame(raw['country'].value_counts())\n",
    "countries.median() # there are alot of countries with very few subjects"
   ]
  },
  {
   "cell_type": "code",
   "execution_count": 93,
   "id": "71df3b8a",
   "metadata": {},
   "outputs": [
    {
     "data": {
      "text/plain": [
       "country    1176.5\n",
       "dtype: float64"
      ]
     },
     "execution_count": 93,
     "metadata": {},
     "output_type": "execute_result"
    }
   ],
   "source": [
    "countries = countries.loc[countries['country'] >= 500]\n",
    "countries.median()"
   ]
  },
  {
   "cell_type": "code",
   "execution_count": 94,
   "id": "7e4cdf5b",
   "metadata": {},
   "outputs": [
    {
     "data": {
      "text/plain": [
       "6"
      ]
     },
     "execution_count": 94,
     "metadata": {},
     "output_type": "execute_result"
    }
   ],
   "source": [
    "len(countries) # so we're left with 6 countries"
   ]
  },
  {
   "cell_type": "code",
   "execution_count": 95,
   "id": "3f4f5b57",
   "metadata": {},
   "outputs": [],
   "source": [
    "raw = raw.loc[raw['country'].isin(countries.index)] # keep only those countries"
   ]
  },
  {
   "cell_type": "code",
   "execution_count": 96,
   "id": "b16f88b9",
   "metadata": {},
   "outputs": [
    {
     "data": {
      "text/plain": [
       "6"
      ]
     },
     "execution_count": 96,
     "metadata": {},
     "output_type": "execute_result"
    }
   ],
   "source": [
    "len(raw['country'].value_counts()) # seems like it worked!"
   ]
  },
  {
   "cell_type": "markdown",
   "id": "be0fee51",
   "metadata": {},
   "source": [
    "Now the problem is that most skl algorithms dont know how to use strings for their predictions. So, we will split\n",
    "the column 'country' into 6 columns of countries which will contain ones and zeros:\n",
    "one if the subject is from the column's name (country)\n",
    "or zero if not.\n",
    "in each row there sould be exactly one \"1\"."
   ]
  },
  {
   "cell_type": "code",
   "execution_count": 97,
   "id": "a5a495b8",
   "metadata": {},
   "outputs": [
    {
     "data": {
      "text/html": [
       "<div>\n",
       "<style scoped>\n",
       "    .dataframe tbody tr th:only-of-type {\n",
       "        vertical-align: middle;\n",
       "    }\n",
       "\n",
       "    .dataframe tbody tr th {\n",
       "        vertical-align: top;\n",
       "    }\n",
       "\n",
       "    .dataframe thead th {\n",
       "        text-align: right;\n",
       "    }\n",
       "</style>\n",
       "<table border=\"1\" class=\"dataframe\">\n",
       "  <thead>\n",
       "    <tr style=\"text-align: right;\">\n",
       "      <th></th>\n",
       "      <th>AU</th>\n",
       "      <th>CA</th>\n",
       "      <th>GB</th>\n",
       "      <th>IN</th>\n",
       "      <th>PH</th>\n",
       "      <th>US</th>\n",
       "    </tr>\n",
       "  </thead>\n",
       "  <tbody>\n",
       "    <tr>\n",
       "      <th>0</th>\n",
       "      <td>0</td>\n",
       "      <td>0</td>\n",
       "      <td>0</td>\n",
       "      <td>0</td>\n",
       "      <td>0</td>\n",
       "      <td>1</td>\n",
       "    </tr>\n",
       "    <tr>\n",
       "      <th>1</th>\n",
       "      <td>0</td>\n",
       "      <td>0</td>\n",
       "      <td>0</td>\n",
       "      <td>0</td>\n",
       "      <td>0</td>\n",
       "      <td>1</td>\n",
       "    </tr>\n",
       "    <tr>\n",
       "      <th>4</th>\n",
       "      <td>0</td>\n",
       "      <td>0</td>\n",
       "      <td>0</td>\n",
       "      <td>0</td>\n",
       "      <td>0</td>\n",
       "      <td>1</td>\n",
       "    </tr>\n",
       "    <tr>\n",
       "      <th>5</th>\n",
       "      <td>0</td>\n",
       "      <td>0</td>\n",
       "      <td>0</td>\n",
       "      <td>0</td>\n",
       "      <td>0</td>\n",
       "      <td>1</td>\n",
       "    </tr>\n",
       "    <tr>\n",
       "      <th>6</th>\n",
       "      <td>0</td>\n",
       "      <td>0</td>\n",
       "      <td>0</td>\n",
       "      <td>0</td>\n",
       "      <td>0</td>\n",
       "      <td>1</td>\n",
       "    </tr>\n",
       "    <tr>\n",
       "      <th>...</th>\n",
       "      <td>...</td>\n",
       "      <td>...</td>\n",
       "      <td>...</td>\n",
       "      <td>...</td>\n",
       "      <td>...</td>\n",
       "      <td>...</td>\n",
       "    </tr>\n",
       "    <tr>\n",
       "      <th>19712</th>\n",
       "      <td>0</td>\n",
       "      <td>0</td>\n",
       "      <td>0</td>\n",
       "      <td>0</td>\n",
       "      <td>0</td>\n",
       "      <td>1</td>\n",
       "    </tr>\n",
       "    <tr>\n",
       "      <th>19713</th>\n",
       "      <td>0</td>\n",
       "      <td>0</td>\n",
       "      <td>0</td>\n",
       "      <td>0</td>\n",
       "      <td>0</td>\n",
       "      <td>1</td>\n",
       "    </tr>\n",
       "    <tr>\n",
       "      <th>19715</th>\n",
       "      <td>0</td>\n",
       "      <td>0</td>\n",
       "      <td>0</td>\n",
       "      <td>0</td>\n",
       "      <td>0</td>\n",
       "      <td>1</td>\n",
       "    </tr>\n",
       "    <tr>\n",
       "      <th>19716</th>\n",
       "      <td>0</td>\n",
       "      <td>0</td>\n",
       "      <td>0</td>\n",
       "      <td>0</td>\n",
       "      <td>0</td>\n",
       "      <td>1</td>\n",
       "    </tr>\n",
       "    <tr>\n",
       "      <th>19718</th>\n",
       "      <td>0</td>\n",
       "      <td>0</td>\n",
       "      <td>0</td>\n",
       "      <td>0</td>\n",
       "      <td>0</td>\n",
       "      <td>1</td>\n",
       "    </tr>\n",
       "  </tbody>\n",
       "</table>\n",
       "<p>13686 rows × 6 columns</p>\n",
       "</div>"
      ],
      "text/plain": [
       "       AU  CA  GB  IN  PH  US\n",
       "0       0   0   0   0   0   1\n",
       "1       0   0   0   0   0   1\n",
       "4       0   0   0   0   0   1\n",
       "5       0   0   0   0   0   1\n",
       "6       0   0   0   0   0   1\n",
       "...    ..  ..  ..  ..  ..  ..\n",
       "19712   0   0   0   0   0   1\n",
       "19713   0   0   0   0   0   1\n",
       "19715   0   0   0   0   0   1\n",
       "19716   0   0   0   0   0   1\n",
       "19718   0   0   0   0   0   1\n",
       "\n",
       "[13686 rows x 6 columns]"
      ]
     },
     "execution_count": 97,
     "metadata": {},
     "output_type": "execute_result"
    }
   ],
   "source": [
    "raw['country'].str.get_dummies() # most of the subjects are from the US"
   ]
  },
  {
   "cell_type": "code",
   "execution_count": 98,
   "id": "8f2d5aa7",
   "metadata": {},
   "outputs": [],
   "source": [
    "n_data = raw.join(raw['country'].str.get_dummies(), how='right') # combining the two data frames into a n_data"
   ]
  },
  {
   "cell_type": "code",
   "execution_count": 99,
   "id": "f9993150",
   "metadata": {},
   "outputs": [
    {
     "data": {
      "text/html": [
       "<div>\n",
       "<style scoped>\n",
       "    .dataframe tbody tr th:only-of-type {\n",
       "        vertical-align: middle;\n",
       "    }\n",
       "\n",
       "    .dataframe tbody tr th {\n",
       "        vertical-align: top;\n",
       "    }\n",
       "\n",
       "    .dataframe thead th {\n",
       "        text-align: right;\n",
       "    }\n",
       "</style>\n",
       "<table border=\"1\" class=\"dataframe\">\n",
       "  <thead>\n",
       "    <tr style=\"text-align: right;\">\n",
       "      <th></th>\n",
       "      <th>gender</th>\n",
       "      <th>country</th>\n",
       "      <th>E1</th>\n",
       "      <th>E2</th>\n",
       "      <th>E3</th>\n",
       "      <th>E4</th>\n",
       "      <th>E5</th>\n",
       "      <th>E6</th>\n",
       "      <th>E7</th>\n",
       "      <th>E8</th>\n",
       "      <th>...</th>\n",
       "      <th>O7</th>\n",
       "      <th>O8</th>\n",
       "      <th>O9</th>\n",
       "      <th>O10</th>\n",
       "      <th>AU</th>\n",
       "      <th>CA</th>\n",
       "      <th>GB</th>\n",
       "      <th>IN</th>\n",
       "      <th>PH</th>\n",
       "      <th>US</th>\n",
       "    </tr>\n",
       "  </thead>\n",
       "  <tbody>\n",
       "    <tr>\n",
       "      <th>0</th>\n",
       "      <td>1</td>\n",
       "      <td>US</td>\n",
       "      <td>4</td>\n",
       "      <td>2</td>\n",
       "      <td>5</td>\n",
       "      <td>2</td>\n",
       "      <td>5</td>\n",
       "      <td>1</td>\n",
       "      <td>4</td>\n",
       "      <td>3</td>\n",
       "      <td>...</td>\n",
       "      <td>4</td>\n",
       "      <td>2</td>\n",
       "      <td>5</td>\n",
       "      <td>5</td>\n",
       "      <td>0</td>\n",
       "      <td>0</td>\n",
       "      <td>0</td>\n",
       "      <td>0</td>\n",
       "      <td>0</td>\n",
       "      <td>1</td>\n",
       "    </tr>\n",
       "    <tr>\n",
       "      <th>1</th>\n",
       "      <td>2</td>\n",
       "      <td>US</td>\n",
       "      <td>2</td>\n",
       "      <td>2</td>\n",
       "      <td>3</td>\n",
       "      <td>3</td>\n",
       "      <td>3</td>\n",
       "      <td>3</td>\n",
       "      <td>1</td>\n",
       "      <td>5</td>\n",
       "      <td>...</td>\n",
       "      <td>3</td>\n",
       "      <td>1</td>\n",
       "      <td>3</td>\n",
       "      <td>2</td>\n",
       "      <td>0</td>\n",
       "      <td>0</td>\n",
       "      <td>0</td>\n",
       "      <td>0</td>\n",
       "      <td>0</td>\n",
       "      <td>1</td>\n",
       "    </tr>\n",
       "    <tr>\n",
       "      <th>4</th>\n",
       "      <td>2</td>\n",
       "      <td>US</td>\n",
       "      <td>3</td>\n",
       "      <td>1</td>\n",
       "      <td>3</td>\n",
       "      <td>3</td>\n",
       "      <td>3</td>\n",
       "      <td>1</td>\n",
       "      <td>3</td>\n",
       "      <td>1</td>\n",
       "      <td>...</td>\n",
       "      <td>3</td>\n",
       "      <td>1</td>\n",
       "      <td>5</td>\n",
       "      <td>3</td>\n",
       "      <td>0</td>\n",
       "      <td>0</td>\n",
       "      <td>0</td>\n",
       "      <td>0</td>\n",
       "      <td>0</td>\n",
       "      <td>1</td>\n",
       "    </tr>\n",
       "    <tr>\n",
       "      <th>5</th>\n",
       "      <td>2</td>\n",
       "      <td>US</td>\n",
       "      <td>1</td>\n",
       "      <td>5</td>\n",
       "      <td>2</td>\n",
       "      <td>4</td>\n",
       "      <td>1</td>\n",
       "      <td>3</td>\n",
       "      <td>2</td>\n",
       "      <td>4</td>\n",
       "      <td>...</td>\n",
       "      <td>5</td>\n",
       "      <td>4</td>\n",
       "      <td>5</td>\n",
       "      <td>3</td>\n",
       "      <td>0</td>\n",
       "      <td>0</td>\n",
       "      <td>0</td>\n",
       "      <td>0</td>\n",
       "      <td>0</td>\n",
       "      <td>1</td>\n",
       "    </tr>\n",
       "    <tr>\n",
       "      <th>6</th>\n",
       "      <td>2</td>\n",
       "      <td>US</td>\n",
       "      <td>5</td>\n",
       "      <td>1</td>\n",
       "      <td>5</td>\n",
       "      <td>1</td>\n",
       "      <td>5</td>\n",
       "      <td>1</td>\n",
       "      <td>5</td>\n",
       "      <td>4</td>\n",
       "      <td>...</td>\n",
       "      <td>4</td>\n",
       "      <td>3</td>\n",
       "      <td>3</td>\n",
       "      <td>4</td>\n",
       "      <td>0</td>\n",
       "      <td>0</td>\n",
       "      <td>0</td>\n",
       "      <td>0</td>\n",
       "      <td>0</td>\n",
       "      <td>1</td>\n",
       "    </tr>\n",
       "  </tbody>\n",
       "</table>\n",
       "<p>5 rows × 58 columns</p>\n",
       "</div>"
      ],
      "text/plain": [
       "   gender country  E1  E2  E3  E4  E5  E6  E7  E8  ...  O7  O8  O9  O10  AU  \\\n",
       "0       1      US   4   2   5   2   5   1   4   3  ...   4   2   5    5   0   \n",
       "1       2      US   2   2   3   3   3   3   1   5  ...   3   1   3    2   0   \n",
       "4       2      US   3   1   3   3   3   1   3   1  ...   3   1   5    3   0   \n",
       "5       2      US   1   5   2   4   1   3   2   4  ...   5   4   5    3   0   \n",
       "6       2      US   5   1   5   1   5   1   5   4  ...   4   3   3    4   0   \n",
       "\n",
       "   CA  GB  IN  PH  US  \n",
       "0   0   0   0   0   1  \n",
       "1   0   0   0   0   1  \n",
       "4   0   0   0   0   1  \n",
       "5   0   0   0   0   1  \n",
       "6   0   0   0   0   1  \n",
       "\n",
       "[5 rows x 58 columns]"
      ]
     },
     "execution_count": 99,
     "metadata": {},
     "output_type": "execute_result"
    }
   ],
   "source": [
    "n_data.head()"
   ]
  },
  {
   "cell_type": "code",
   "execution_count": 100,
   "id": "881b0410",
   "metadata": {},
   "outputs": [],
   "source": [
    "n_data = n_data.drop('country', axis=1) # we ahve no use for the 'country' column now"
   ]
  },
  {
   "cell_type": "code",
   "execution_count": 101,
   "id": "ac9313c8",
   "metadata": {},
   "outputs": [
    {
     "data": {
      "text/html": [
       "<div>\n",
       "<style scoped>\n",
       "    .dataframe tbody tr th:only-of-type {\n",
       "        vertical-align: middle;\n",
       "    }\n",
       "\n",
       "    .dataframe tbody tr th {\n",
       "        vertical-align: top;\n",
       "    }\n",
       "\n",
       "    .dataframe thead th {\n",
       "        text-align: right;\n",
       "    }\n",
       "</style>\n",
       "<table border=\"1\" class=\"dataframe\">\n",
       "  <thead>\n",
       "    <tr style=\"text-align: right;\">\n",
       "      <th></th>\n",
       "      <th>gender</th>\n",
       "      <th>E1</th>\n",
       "      <th>E2</th>\n",
       "      <th>E3</th>\n",
       "      <th>E4</th>\n",
       "      <th>E5</th>\n",
       "      <th>E6</th>\n",
       "      <th>E7</th>\n",
       "      <th>E8</th>\n",
       "      <th>E9</th>\n",
       "      <th>...</th>\n",
       "      <th>O7</th>\n",
       "      <th>O8</th>\n",
       "      <th>O9</th>\n",
       "      <th>O10</th>\n",
       "      <th>AU</th>\n",
       "      <th>CA</th>\n",
       "      <th>GB</th>\n",
       "      <th>IN</th>\n",
       "      <th>PH</th>\n",
       "      <th>US</th>\n",
       "    </tr>\n",
       "  </thead>\n",
       "  <tbody>\n",
       "    <tr>\n",
       "      <th>0</th>\n",
       "      <td>1</td>\n",
       "      <td>4</td>\n",
       "      <td>2</td>\n",
       "      <td>5</td>\n",
       "      <td>2</td>\n",
       "      <td>5</td>\n",
       "      <td>1</td>\n",
       "      <td>4</td>\n",
       "      <td>3</td>\n",
       "      <td>5</td>\n",
       "      <td>...</td>\n",
       "      <td>4</td>\n",
       "      <td>2</td>\n",
       "      <td>5</td>\n",
       "      <td>5</td>\n",
       "      <td>0</td>\n",
       "      <td>0</td>\n",
       "      <td>0</td>\n",
       "      <td>0</td>\n",
       "      <td>0</td>\n",
       "      <td>1</td>\n",
       "    </tr>\n",
       "    <tr>\n",
       "      <th>1</th>\n",
       "      <td>2</td>\n",
       "      <td>2</td>\n",
       "      <td>2</td>\n",
       "      <td>3</td>\n",
       "      <td>3</td>\n",
       "      <td>3</td>\n",
       "      <td>3</td>\n",
       "      <td>1</td>\n",
       "      <td>5</td>\n",
       "      <td>1</td>\n",
       "      <td>...</td>\n",
       "      <td>3</td>\n",
       "      <td>1</td>\n",
       "      <td>3</td>\n",
       "      <td>2</td>\n",
       "      <td>0</td>\n",
       "      <td>0</td>\n",
       "      <td>0</td>\n",
       "      <td>0</td>\n",
       "      <td>0</td>\n",
       "      <td>1</td>\n",
       "    </tr>\n",
       "    <tr>\n",
       "      <th>4</th>\n",
       "      <td>2</td>\n",
       "      <td>3</td>\n",
       "      <td>1</td>\n",
       "      <td>3</td>\n",
       "      <td>3</td>\n",
       "      <td>3</td>\n",
       "      <td>1</td>\n",
       "      <td>3</td>\n",
       "      <td>1</td>\n",
       "      <td>3</td>\n",
       "      <td>...</td>\n",
       "      <td>3</td>\n",
       "      <td>1</td>\n",
       "      <td>5</td>\n",
       "      <td>3</td>\n",
       "      <td>0</td>\n",
       "      <td>0</td>\n",
       "      <td>0</td>\n",
       "      <td>0</td>\n",
       "      <td>0</td>\n",
       "      <td>1</td>\n",
       "    </tr>\n",
       "    <tr>\n",
       "      <th>5</th>\n",
       "      <td>2</td>\n",
       "      <td>1</td>\n",
       "      <td>5</td>\n",
       "      <td>2</td>\n",
       "      <td>4</td>\n",
       "      <td>1</td>\n",
       "      <td>3</td>\n",
       "      <td>2</td>\n",
       "      <td>4</td>\n",
       "      <td>1</td>\n",
       "      <td>...</td>\n",
       "      <td>5</td>\n",
       "      <td>4</td>\n",
       "      <td>5</td>\n",
       "      <td>3</td>\n",
       "      <td>0</td>\n",
       "      <td>0</td>\n",
       "      <td>0</td>\n",
       "      <td>0</td>\n",
       "      <td>0</td>\n",
       "      <td>1</td>\n",
       "    </tr>\n",
       "    <tr>\n",
       "      <th>6</th>\n",
       "      <td>2</td>\n",
       "      <td>5</td>\n",
       "      <td>1</td>\n",
       "      <td>5</td>\n",
       "      <td>1</td>\n",
       "      <td>5</td>\n",
       "      <td>1</td>\n",
       "      <td>5</td>\n",
       "      <td>4</td>\n",
       "      <td>4</td>\n",
       "      <td>...</td>\n",
       "      <td>4</td>\n",
       "      <td>3</td>\n",
       "      <td>3</td>\n",
       "      <td>4</td>\n",
       "      <td>0</td>\n",
       "      <td>0</td>\n",
       "      <td>0</td>\n",
       "      <td>0</td>\n",
       "      <td>0</td>\n",
       "      <td>1</td>\n",
       "    </tr>\n",
       "  </tbody>\n",
       "</table>\n",
       "<p>5 rows × 57 columns</p>\n",
       "</div>"
      ],
      "text/plain": [
       "   gender  E1  E2  E3  E4  E5  E6  E7  E8  E9  ...  O7  O8  O9  O10  AU  CA  \\\n",
       "0       1   4   2   5   2   5   1   4   3   5  ...   4   2   5    5   0   0   \n",
       "1       2   2   2   3   3   3   3   1   5   1  ...   3   1   3    2   0   0   \n",
       "4       2   3   1   3   3   3   1   3   1   3  ...   3   1   5    3   0   0   \n",
       "5       2   1   5   2   4   1   3   2   4   1  ...   5   4   5    3   0   0   \n",
       "6       2   5   1   5   1   5   1   5   4   4  ...   4   3   3    4   0   0   \n",
       "\n",
       "   GB  IN  PH  US  \n",
       "0   0   0   0   1  \n",
       "1   0   0   0   1  \n",
       "4   0   0   0   1  \n",
       "5   0   0   0   1  \n",
       "6   0   0   0   1  \n",
       "\n",
       "[5 rows x 57 columns]"
      ]
     },
     "execution_count": 101,
     "metadata": {},
     "output_type": "execute_result"
    }
   ],
   "source": [
    "n_data.head() "
   ]
  },
  {
   "cell_type": "raw",
   "id": "d4c61cf7",
   "metadata": {},
   "source": [
    "Now we will change the 'gender' column to a binary form"
   ]
  },
  {
   "cell_type": "code",
   "execution_count": 102,
   "id": "f2b01ed0",
   "metadata": {},
   "outputs": [],
   "source": [
    "n_data['gender'] = n_data['gender'] - 1 # now 1 is female and 0 is male"
   ]
  },
  {
   "cell_type": "code",
   "execution_count": 103,
   "id": "de1c2efa",
   "metadata": {},
   "outputs": [
    {
     "data": {
      "text/plain": [
       " 1    8543\n",
       " 0    5057\n",
       " 2      68\n",
       "-1      18\n",
       "Name: gender, dtype: int64"
      ]
     },
     "execution_count": 103,
     "metadata": {},
     "output_type": "execute_result"
    }
   ],
   "source": [
    "n_data['gender'].value_counts()"
   ]
  },
  {
   "cell_type": "code",
   "execution_count": 104,
   "id": "4c3663ad",
   "metadata": {},
   "outputs": [],
   "source": [
    "n_data = n_data.loc[n_data['gender']!=2] # 3 was \"other\""
   ]
  },
  {
   "cell_type": "code",
   "execution_count": 105,
   "id": "c3addee3",
   "metadata": {},
   "outputs": [],
   "source": [
    "n_data = n_data.loc[n_data['gender']!=-1] # 0 was \"rather not say\""
   ]
  },
  {
   "cell_type": "code",
   "execution_count": 106,
   "id": "cecfa633",
   "metadata": {},
   "outputs": [
    {
     "data": {
      "text/plain": [
       "1    8543\n",
       "0    5057\n",
       "Name: gender, dtype: int64"
      ]
     },
     "execution_count": 106,
     "metadata": {},
     "output_type": "execute_result"
    }
   ],
   "source": [
    "n_data['gender'].value_counts() # now it's binary"
   ]
  },
  {
   "cell_type": "code",
   "execution_count": 107,
   "id": "fcedb215",
   "metadata": {},
   "outputs": [
    {
     "data": {
      "text/html": [
       "<div>\n",
       "<style scoped>\n",
       "    .dataframe tbody tr th:only-of-type {\n",
       "        vertical-align: middle;\n",
       "    }\n",
       "\n",
       "    .dataframe tbody tr th {\n",
       "        vertical-align: top;\n",
       "    }\n",
       "\n",
       "    .dataframe thead th {\n",
       "        text-align: right;\n",
       "    }\n",
       "</style>\n",
       "<table border=\"1\" class=\"dataframe\">\n",
       "  <thead>\n",
       "    <tr style=\"text-align: right;\">\n",
       "      <th></th>\n",
       "      <th>gender</th>\n",
       "      <th>E1</th>\n",
       "      <th>E2</th>\n",
       "      <th>E3</th>\n",
       "      <th>E4</th>\n",
       "      <th>E5</th>\n",
       "      <th>E6</th>\n",
       "      <th>E7</th>\n",
       "      <th>E8</th>\n",
       "      <th>E9</th>\n",
       "      <th>...</th>\n",
       "      <th>O7</th>\n",
       "      <th>O8</th>\n",
       "      <th>O9</th>\n",
       "      <th>O10</th>\n",
       "      <th>AU</th>\n",
       "      <th>CA</th>\n",
       "      <th>GB</th>\n",
       "      <th>IN</th>\n",
       "      <th>PH</th>\n",
       "      <th>US</th>\n",
       "    </tr>\n",
       "  </thead>\n",
       "  <tbody>\n",
       "    <tr>\n",
       "      <th>0</th>\n",
       "      <td>0</td>\n",
       "      <td>4</td>\n",
       "      <td>2</td>\n",
       "      <td>5</td>\n",
       "      <td>2</td>\n",
       "      <td>5</td>\n",
       "      <td>1</td>\n",
       "      <td>4</td>\n",
       "      <td>3</td>\n",
       "      <td>5</td>\n",
       "      <td>...</td>\n",
       "      <td>4</td>\n",
       "      <td>2</td>\n",
       "      <td>5</td>\n",
       "      <td>5</td>\n",
       "      <td>0</td>\n",
       "      <td>0</td>\n",
       "      <td>0</td>\n",
       "      <td>0</td>\n",
       "      <td>0</td>\n",
       "      <td>1</td>\n",
       "    </tr>\n",
       "    <tr>\n",
       "      <th>1</th>\n",
       "      <td>1</td>\n",
       "      <td>2</td>\n",
       "      <td>2</td>\n",
       "      <td>3</td>\n",
       "      <td>3</td>\n",
       "      <td>3</td>\n",
       "      <td>3</td>\n",
       "      <td>1</td>\n",
       "      <td>5</td>\n",
       "      <td>1</td>\n",
       "      <td>...</td>\n",
       "      <td>3</td>\n",
       "      <td>1</td>\n",
       "      <td>3</td>\n",
       "      <td>2</td>\n",
       "      <td>0</td>\n",
       "      <td>0</td>\n",
       "      <td>0</td>\n",
       "      <td>0</td>\n",
       "      <td>0</td>\n",
       "      <td>1</td>\n",
       "    </tr>\n",
       "    <tr>\n",
       "      <th>4</th>\n",
       "      <td>1</td>\n",
       "      <td>3</td>\n",
       "      <td>1</td>\n",
       "      <td>3</td>\n",
       "      <td>3</td>\n",
       "      <td>3</td>\n",
       "      <td>1</td>\n",
       "      <td>3</td>\n",
       "      <td>1</td>\n",
       "      <td>3</td>\n",
       "      <td>...</td>\n",
       "      <td>3</td>\n",
       "      <td>1</td>\n",
       "      <td>5</td>\n",
       "      <td>3</td>\n",
       "      <td>0</td>\n",
       "      <td>0</td>\n",
       "      <td>0</td>\n",
       "      <td>0</td>\n",
       "      <td>0</td>\n",
       "      <td>1</td>\n",
       "    </tr>\n",
       "    <tr>\n",
       "      <th>5</th>\n",
       "      <td>1</td>\n",
       "      <td>1</td>\n",
       "      <td>5</td>\n",
       "      <td>2</td>\n",
       "      <td>4</td>\n",
       "      <td>1</td>\n",
       "      <td>3</td>\n",
       "      <td>2</td>\n",
       "      <td>4</td>\n",
       "      <td>1</td>\n",
       "      <td>...</td>\n",
       "      <td>5</td>\n",
       "      <td>4</td>\n",
       "      <td>5</td>\n",
       "      <td>3</td>\n",
       "      <td>0</td>\n",
       "      <td>0</td>\n",
       "      <td>0</td>\n",
       "      <td>0</td>\n",
       "      <td>0</td>\n",
       "      <td>1</td>\n",
       "    </tr>\n",
       "    <tr>\n",
       "      <th>6</th>\n",
       "      <td>1</td>\n",
       "      <td>5</td>\n",
       "      <td>1</td>\n",
       "      <td>5</td>\n",
       "      <td>1</td>\n",
       "      <td>5</td>\n",
       "      <td>1</td>\n",
       "      <td>5</td>\n",
       "      <td>4</td>\n",
       "      <td>4</td>\n",
       "      <td>...</td>\n",
       "      <td>4</td>\n",
       "      <td>3</td>\n",
       "      <td>3</td>\n",
       "      <td>4</td>\n",
       "      <td>0</td>\n",
       "      <td>0</td>\n",
       "      <td>0</td>\n",
       "      <td>0</td>\n",
       "      <td>0</td>\n",
       "      <td>1</td>\n",
       "    </tr>\n",
       "  </tbody>\n",
       "</table>\n",
       "<p>5 rows × 57 columns</p>\n",
       "</div>"
      ],
      "text/plain": [
       "   gender  E1  E2  E3  E4  E5  E6  E7  E8  E9  ...  O7  O8  O9  O10  AU  CA  \\\n",
       "0       0   4   2   5   2   5   1   4   3   5  ...   4   2   5    5   0   0   \n",
       "1       1   2   2   3   3   3   3   1   5   1  ...   3   1   3    2   0   0   \n",
       "4       1   3   1   3   3   3   1   3   1   3  ...   3   1   5    3   0   0   \n",
       "5       1   1   5   2   4   1   3   2   4   1  ...   5   4   5    3   0   0   \n",
       "6       1   5   1   5   1   5   1   5   4   4  ...   4   3   3    4   0   0   \n",
       "\n",
       "   GB  IN  PH  US  \n",
       "0   0   0   0   1  \n",
       "1   0   0   0   1  \n",
       "4   0   0   0   1  \n",
       "5   0   0   0   1  \n",
       "6   0   0   0   1  \n",
       "\n",
       "[5 rows x 57 columns]"
      ]
     },
     "execution_count": 107,
     "metadata": {},
     "output_type": "execute_result"
    }
   ],
   "source": [
    "n_data.head(5)"
   ]
  },
  {
   "cell_type": "code",
   "execution_count": 108,
   "id": "402f31cd",
   "metadata": {},
   "outputs": [],
   "source": [
    "from sklearn.utils import shuffle"
   ]
  },
  {
   "cell_type": "code",
   "execution_count": 109,
   "id": "c60a3571",
   "metadata": {},
   "outputs": [],
   "source": [
    "from sklearn import linear_model\n",
    "from sklearn.model_selection import cross_val_score"
   ]
  },
  {
   "cell_type": "code",
   "execution_count": 110,
   "id": "6d3d2ce8",
   "metadata": {},
   "outputs": [],
   "source": [
    "n_data = shuffle(n_data)"
   ]
  },
  {
   "cell_type": "code",
   "execution_count": 111,
   "id": "9cb1ca23",
   "metadata": {},
   "outputs": [],
   "source": [
    "to = 2000\n",
    "train = n_data[:to]\n",
    "test = n_data[to:]"
   ]
  },
  {
   "cell_type": "code",
   "execution_count": 112,
   "id": "f8253906",
   "metadata": {},
   "outputs": [],
   "source": [
    "trainx = train.drop('gender',axis=1)\n",
    "trainy = train['gender']"
   ]
  },
  {
   "cell_type": "code",
   "execution_count": 113,
   "id": "eb8d3b15",
   "metadata": {},
   "outputs": [],
   "source": [
    "import sklearn.naive_bayes\n",
    "from sklearn.naive_bayes import BernoulliNB\n",
    "# best we got is 0.64 accuracy for 0.65 male to female ratio - not good\n"
   ]
  },
  {
   "cell_type": "code",
   "execution_count": 114,
   "id": "c8d07b69",
   "metadata": {},
   "outputs": [],
   "source": [
    "from sklearn import linear_model\n",
    "from sklearn.tree import DecisionTreeClassifier#binarize=1.6-for power trick.binarize=.65-no trick\n",
    "from sklearn.neighbors import KNeighborsClassifier\n",
    "from sklearn.metrics import f1_score"
   ]
  },
  {
   "cell_type": "code",
   "execution_count": 115,
   "id": "4c6eb1cf",
   "metadata": {},
   "outputs": [],
   "source": [
    "reg = linear_model.LogisticRegression() "
   ]
  },
  {
   "cell_type": "code",
   "execution_count": 116,
   "id": "677ec230",
   "metadata": {},
   "outputs": [
    {
     "data": {
      "text/plain": [
       "LogisticRegression()"
      ]
     },
     "execution_count": 116,
     "metadata": {},
     "output_type": "execute_result"
    }
   ],
   "source": [
    "reg"
   ]
  },
  {
   "cell_type": "code",
   "execution_count": 117,
   "id": "4dcdbec3",
   "metadata": {},
   "outputs": [],
   "source": [
    "reg = linear_model.LinearRegression() \n",
    "# this model can't use binary data. coutry of origin in this case"
   ]
  },
  {
   "cell_type": "code",
   "execution_count": 118,
   "id": "9d70bd53",
   "metadata": {},
   "outputs": [],
   "source": [
    "reg = KNeighborsClassifier(n_neighbors=40) "
   ]
  },
  {
   "cell_type": "code",
   "execution_count": 119,
   "id": "1e68b213",
   "metadata": {},
   "outputs": [],
   "source": [
    "reg = linear_model.RidgeClassifierCV() # best so far - we got a 0.75 f1 score"
   ]
  },
  {
   "cell_type": "code",
   "execution_count": null,
   "id": "7685418a",
   "metadata": {},
   "outputs": [],
   "source": []
  },
  {
   "cell_type": "code",
   "execution_count": null,
   "id": "0435e6b4",
   "metadata": {},
   "outputs": [],
   "source": []
  },
  {
   "cell_type": "code",
   "execution_count": 120,
   "id": "07faff42",
   "metadata": {
    "scrolled": false
   },
   "outputs": [
    {
     "data": {
      "text/plain": [
       "0.7666720173380029"
      ]
     },
     "execution_count": 120,
     "metadata": {},
     "output_type": "execute_result"
    }
   ],
   "source": [
    "scrs = [] \n",
    "n_to = int(to/3)\n",
    "tms = 100\n",
    "for i in range(tms):\n",
    "    train = shuffle(train) # shuffling the train DF\n",
    "    trainx = train.drop('gender',axis=1)\n",
    "    trainy = train['gender']\n",
    "    reg.fit(trainx[:n_to],trainy[:n_to])\n",
    "    output = reg.predict(trainx[n_to:])\n",
    "    scrs.append(sklearn.metrics.f1_score(trainy[n_to:], output)) # adding the f1 score to the list\n",
    "sum(scrs)/tms "
   ]
  },
  {
   "cell_type": "code",
   "execution_count": 121,
   "id": "fe43ad54",
   "metadata": {},
   "outputs": [
    {
     "name": "stdout",
     "output_type": "stream",
     "text": [
      "Accuracy avg:  0.6977800000000002\n",
      "Female percentage:  0.624\n",
      "Diffrence:  0.07378000000000018\n"
     ]
    }
   ],
   "source": [
    "scrs = []\n",
    "g_rate = [] # this will later tell us what the female to male ratio was when the prediction took place\n",
    "tms = 50\n",
    "for i in range(tms):\n",
    "    train = shuffle(train)\n",
    "    trainx = train.drop('gender',axis=1)\n",
    "    trainy = train['gender']\n",
    "    scrs.append(cross_val_score(reg, trainx, trainy, cv=5).mean())\n",
    "print('Accuracy avg: ', sum(scrs) / len(scrs))\n",
    "print('Female percentage: ', len(train.loc[train['gender'] == 1]) / 2000)\n",
    "dif = abs((sum(scrs) / len(scrs))- (len(train.loc[train['gender'] == 1]) / 2000))\n",
    "print('Diffrence: ',dif)\n",
    "# this shows us the difference between the avg of the accuracy and the avg of the female to male ratio in those tests\n",
    "# so the number we see is the number of percents the model is more acuurate than just guessing 'female' every time"
   ]
  },
  {
   "cell_type": "code",
   "execution_count": 122,
   "id": "51678c32",
   "metadata": {},
   "outputs": [],
   "source": [
    "from matplotlib import pyplot as plt\n",
    "import seaborn as sns"
   ]
  },
  {
   "cell_type": "code",
   "execution_count": 123,
   "id": "c2c6c507",
   "metadata": {},
   "outputs": [],
   "source": [
    "mal = n_data.loc[n_data['gender']==0]\n",
    "fem = n_data.loc[n_data['gender']==1][:len(mal)]\n",
    "plot_d = fem.append(mal) \n",
    "# making new DataFrame that has a 1:1 femal to male ratio so the info we get will not be bias"
   ]
  },
  {
   "cell_type": "code",
   "execution_count": 124,
   "id": "70b0365d",
   "metadata": {},
   "outputs": [],
   "source": [
    "len(fem)\n",
    "plot_d = shuffle(plot_d)\n",
    "train=plot_d[:to]"
   ]
  },
  {
   "cell_type": "code",
   "execution_count": 125,
   "id": "d69f81bd",
   "metadata": {
    "scrolled": true
   },
   "outputs": [
    {
     "data": {
      "text/plain": [
       "5057"
      ]
     },
     "execution_count": 125,
     "metadata": {},
     "output_type": "execute_result"
    }
   ],
   "source": [
    "len(mal)"
   ]
  },
  {
   "cell_type": "markdown",
   "id": "daaada3a",
   "metadata": {},
   "source": [
    "Now we're looking for information to see which question should get more or less weight"
   ]
  },
  {
   "cell_type": "code",
   "execution_count": 126,
   "id": "8e3a8750",
   "metadata": {},
   "outputs": [
    {
     "name": "stdout",
     "output_type": "stream",
     "text": [
      "O : \n",
      "O1 : 0.17480719794344468\n",
      "O2 : 0.22681431678861008\n",
      "O3 : 0.044492782281984944\n",
      "O4 : 0.16828158987541997\n",
      "O5 : 0.20961044097290893\n",
      "O6 : 0.03282578603915365\n",
      "O7 : 0.13466482104014244\n",
      "O8 : 0.227407553885703\n",
      "O9 : 0.004745896776745084\n",
      "O10 : 0.19972315602135637\n",
      "E : \n",
      "E1 : 0.008898556456397255\n",
      "E2 : 0.37195965987739754\n",
      "E3 : 0.06446509788412103\n",
      "E4 : 0.18449673719596582\n",
      "E5 : 0.227407553885703\n",
      "E6 : 0.23393316195372726\n",
      "E7 : 0.14395886889460163\n",
      "E8 : 0.018588095708918395\n",
      "E9 : 0.24480917540043512\n",
      "E10 : 0.02135653549535288\n",
      "C : \n",
      "C1 : 0.07613209412695277\n",
      "C2 : 0.025113703776942664\n",
      "C3 : 0.010282776349614497\n",
      "C4 : 0.03401226023333992\n",
      "C5 : 0.10658493177773387\n",
      "C6 : 0.04904093335969906\n",
      "C7 : 0.10658493177773387\n",
      "C8 : 0.14198141190429103\n",
      "C9 : 0.2796124184298989\n",
      "C10 : 0.005734625271900384\n",
      "N : \n",
      "N1 : 0.5871069804231759\n",
      "N2 : 0.41170654538263785\n",
      "N3 : 0.41981411904291077\n",
      "N4 : 0.14336563179750872\n",
      "N5 : 0.1763891635356929\n",
      "N6 : 0.3982598378485269\n",
      "N7 : 0.2687364049831915\n",
      "N8 : 0.31797508404192243\n",
      "N9 : 0.27684397864346444\n",
      "N10 : 0.11528574253509971\n",
      "A : \n",
      "A1 : 0.3968756179553097\n",
      "A2 : 0.23254894206051047\n",
      "A3 : 0.2958275657504448\n",
      "A4 : 0.3687957286929011\n",
      "A5 : 0.3869883330037569\n",
      "A6 : 0.3723551512754595\n",
      "A7 : 0.3521850899742929\n",
      "A8 : 0.31362467866323884\n",
      "A9 : 0.3684002372948392\n",
      "A10 : 0.1524619339529365\n"
     ]
    }
   ],
   "source": [
    "chrs = {'O','C','E','A','N'}\n",
    "qs = []\n",
    "diff = []\n",
    "for c in chrs:\n",
    "    print(c+' : ')\n",
    "    for i in range(10):\n",
    "        s = c+str(i+1)\n",
    "        print(s+' : '+str(abs(plot_d.loc[plot_d['gender']==0][s].mean()-plot_d.loc[plot_d['gender']==1][s].mean())))\n",
    "        qs.append(s)\n",
    "        diff.append(abs(plot_d.loc[plot_d['gender']==0][s].mean()-plot_d.loc[plot_d['gender']==1][s].mean()))"
   ]
  },
  {
   "cell_type": "code",
   "execution_count": 127,
   "id": "77421a67",
   "metadata": {
    "scrolled": false
   },
   "outputs": [
    {
     "data": {
      "text/plain": [
       "<function matplotlib.pyplot.show(close=None, block=None)>"
      ]
     },
     "execution_count": 127,
     "metadata": {},
     "output_type": "execute_result"
    },
    {
     "data": {
      "image/png": "[encoded data removed]",
      "text/plain": [
       "<Figure size 432x288 with 1 Axes>"
      ]
     },
     "metadata": {
      "needs_background": "light"
     },
     "output_type": "display_data"
    }
   ],
   "source": [
    "plt.bar(qs,diff, color='b',width=0.6)\n",
    "plt.show \n",
    "#Some questions are more important than others. Let's use that:"
   ]
  },
  {
   "cell_type": "code",
   "execution_count": 128,
   "id": "1450af15",
   "metadata": {},
   "outputs": [],
   "source": [
    "#for i in range(len(diff)):\n",
    "#    if diff[i] < 0.05:\n",
    "#        n_data = n_data.drop(qs[i], axis=1)"
   ]
  },
  {
   "cell_type": "code",
   "execution_count": 133,
   "id": "0f570635",
   "metadata": {
    "scrolled": true
   },
   "outputs": [
    {
     "data": {
      "text/plain": [
       "<AxesSubplot:>"
      ]
     },
     "execution_count": 133,
     "metadata": {},
     "output_type": "execute_result"
    },
    {
     "data": {
      "image/png": "[encoded data removed]",
      "text/plain": [
       "<Figure size 432x288 with 2 Axes>"
      ]
     },
     "metadata": {
      "needs_background": "light"
     },
     "output_type": "display_data"
    }
   ],
   "source": [
    "sns.heatmap(n_data.iloc[:, 0:51].corr())\n",
    "# each personality trait is heavily corellated to itself, but not to other traits as expect. \n",
    "# this means that the data is valid"
   ]
  },
  {
   "cell_type": "code",
   "execution_count": 173,
   "id": "c05b267f",
   "metadata": {
    "scrolled": false
   },
   "outputs": [],
   "source": [
    "#n_data.corr()#['gender'].sort_values() # another way of seeing which questions are more coorelated with gender "
   ]
  },
  {
   "cell_type": "code",
   "execution_count": null,
   "id": "32f7b0da",
   "metadata": {},
   "outputs": [],
   "source": []
  },
  {
   "cell_type": "code",
   "execution_count": 50,
   "id": "5a5bb2c8",
   "metadata": {},
   "outputs": [],
   "source": [
    "params = {\n",
    "    'fit_intercept': [True, False],\n",
    "    'normalize': [True, False],\n",
    "    'copy_X': [True, False]    \n",
    "}\n",
    "from sklearn.model_selection import GridSearchCV"
   ]
  },
  {
   "cell_type": "code",
   "execution_count": 51,
   "id": "b52f89c0",
   "metadata": {},
   "outputs": [
    {
     "data": {
      "text/plain": [
       "GridSearchCV(estimator=RidgeClassifierCV(alphas=array([ 0.1,  1. , 10. ])),\n",
       "             param_grid={'copy_X': [True, False],\n",
       "                         'fit_intercept': [True, False],\n",
       "                         'normalize': [True, False]})"
      ]
     },
     "execution_count": 51,
     "metadata": {},
     "output_type": "execute_result"
    }
   ],
   "source": [
    "GridSearchCV(estimator = reg, param_grid=params)"
   ]
  },
  {
   "cell_type": "code",
   "execution_count": 47,
   "id": "dfb48c55",
   "metadata": {},
   "outputs": [
    {
     "data": {
      "text/plain": [
       "{'alphas': array([ 0.1,  1. , 10. ]),\n",
       " 'class_weight': None,\n",
       " 'cv': None,\n",
       " 'fit_intercept': True,\n",
       " 'normalize': False,\n",
       " 'scoring': None,\n",
       " 'store_cv_values': False}"
      ]
     },
     "execution_count": 47,
     "metadata": {},
     "output_type": "execute_result"
    }
   ],
   "source": [
    "params"
   ]
  },
  {
   "cell_type": "code",
   "execution_count": null,
   "id": "9e6e5df8",
   "metadata": {},
   "outputs": [],
   "source": []
  },
  {
   "cell_type": "code",
   "execution_count": null,
   "id": "d9af6552",
   "metadata": {},
   "outputs": [],
   "source": []
  }
 ],
 "metadata": {
  "kernelspec": {
   "display_name": "Python 3",
   "language": "python",
   "name": "python3"
  },
  "language_info": {
   "codemirror_mode": {
    "name": "ipython",
    "version": 3
   },
   "file_extension": ".py",
   "mimetype": "text/x-python",
   "name": "python",
   "nbconvert_exporter": "python",
   "pygments_lexer": "ipython3",
   "version": "3.8.8"
  }
 },
 "nbformat": 4,
 "nbformat_minor": 5
}
