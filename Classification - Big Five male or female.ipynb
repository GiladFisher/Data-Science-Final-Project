{
 "cells": [
  {
   "cell_type": "markdown",
   "id": "4c404e05",
   "metadata": {},
   "source": [
    "First we're going to import relevant libraries and load our data: "
   ]
  },
  {
   "cell_type": "code",
   "execution_count": 1,
   "id": "40a28a1d",
   "metadata": {},
   "outputs": [],
   "source": [
    "import pandas as pd\n",
    "raw = pd.read_csv('C:\\\\Users\\Selfisher\\Desktop\\data.csv', '\\t') \n",
    "# read more about this data in the readme file and codebook.txt\n",
    "# Read more about the Big Five Model in https://en.wikipedia.org/wiki/Big_Five_personality_traits"
   ]
  },
  {
   "cell_type": "code",
   "execution_count": 2,
   "id": "46d89236",
   "metadata": {
    "scrolled": true
   },
   "outputs": [
    {
     "data": {
      "text/html": [
       "<div>\n",
       "<style scoped>\n",
       "    .dataframe tbody tr th:only-of-type {\n",
       "        vertical-align: middle;\n",
       "    }\n",
       "\n",
       "    .dataframe tbody tr th {\n",
       "        vertical-align: top;\n",
       "    }\n",
       "\n",
       "    .dataframe thead th {\n",
       "        text-align: right;\n",
       "    }\n",
       "</style>\n",
       "<table border=\"1\" class=\"dataframe\">\n",
       "  <thead>\n",
       "    <tr style=\"text-align: right;\">\n",
       "      <th></th>\n",
       "      <th>race</th>\n",
       "      <th>age</th>\n",
       "      <th>engnat</th>\n",
       "      <th>gender</th>\n",
       "      <th>hand</th>\n",
       "      <th>source</th>\n",
       "      <th>country</th>\n",
       "      <th>E1</th>\n",
       "      <th>E2</th>\n",
       "      <th>E3</th>\n",
       "      <th>...</th>\n",
       "      <th>O1</th>\n",
       "      <th>O2</th>\n",
       "      <th>O3</th>\n",
       "      <th>O4</th>\n",
       "      <th>O5</th>\n",
       "      <th>O6</th>\n",
       "      <th>O7</th>\n",
       "      <th>O8</th>\n",
       "      <th>O9</th>\n",
       "      <th>O10</th>\n",
       "    </tr>\n",
       "  </thead>\n",
       "  <tbody>\n",
       "    <tr>\n",
       "      <th>0</th>\n",
       "      <td>3</td>\n",
       "      <td>53</td>\n",
       "      <td>1</td>\n",
       "      <td>1</td>\n",
       "      <td>1</td>\n",
       "      <td>1</td>\n",
       "      <td>US</td>\n",
       "      <td>4</td>\n",
       "      <td>2</td>\n",
       "      <td>5</td>\n",
       "      <td>...</td>\n",
       "      <td>4</td>\n",
       "      <td>1</td>\n",
       "      <td>3</td>\n",
       "      <td>1</td>\n",
       "      <td>5</td>\n",
       "      <td>1</td>\n",
       "      <td>4</td>\n",
       "      <td>2</td>\n",
       "      <td>5</td>\n",
       "      <td>5</td>\n",
       "    </tr>\n",
       "    <tr>\n",
       "      <th>1</th>\n",
       "      <td>13</td>\n",
       "      <td>46</td>\n",
       "      <td>1</td>\n",
       "      <td>2</td>\n",
       "      <td>1</td>\n",
       "      <td>1</td>\n",
       "      <td>US</td>\n",
       "      <td>2</td>\n",
       "      <td>2</td>\n",
       "      <td>3</td>\n",
       "      <td>...</td>\n",
       "      <td>3</td>\n",
       "      <td>3</td>\n",
       "      <td>3</td>\n",
       "      <td>3</td>\n",
       "      <td>2</td>\n",
       "      <td>3</td>\n",
       "      <td>3</td>\n",
       "      <td>1</td>\n",
       "      <td>3</td>\n",
       "      <td>2</td>\n",
       "    </tr>\n",
       "    <tr>\n",
       "      <th>2</th>\n",
       "      <td>1</td>\n",
       "      <td>14</td>\n",
       "      <td>2</td>\n",
       "      <td>2</td>\n",
       "      <td>1</td>\n",
       "      <td>1</td>\n",
       "      <td>PK</td>\n",
       "      <td>5</td>\n",
       "      <td>1</td>\n",
       "      <td>1</td>\n",
       "      <td>...</td>\n",
       "      <td>4</td>\n",
       "      <td>5</td>\n",
       "      <td>5</td>\n",
       "      <td>1</td>\n",
       "      <td>5</td>\n",
       "      <td>1</td>\n",
       "      <td>5</td>\n",
       "      <td>5</td>\n",
       "      <td>5</td>\n",
       "      <td>5</td>\n",
       "    </tr>\n",
       "    <tr>\n",
       "      <th>3</th>\n",
       "      <td>3</td>\n",
       "      <td>19</td>\n",
       "      <td>2</td>\n",
       "      <td>2</td>\n",
       "      <td>1</td>\n",
       "      <td>1</td>\n",
       "      <td>RO</td>\n",
       "      <td>2</td>\n",
       "      <td>5</td>\n",
       "      <td>2</td>\n",
       "      <td>...</td>\n",
       "      <td>4</td>\n",
       "      <td>3</td>\n",
       "      <td>5</td>\n",
       "      <td>2</td>\n",
       "      <td>4</td>\n",
       "      <td>2</td>\n",
       "      <td>5</td>\n",
       "      <td>2</td>\n",
       "      <td>5</td>\n",
       "      <td>5</td>\n",
       "    </tr>\n",
       "    <tr>\n",
       "      <th>4</th>\n",
       "      <td>11</td>\n",
       "      <td>25</td>\n",
       "      <td>2</td>\n",
       "      <td>2</td>\n",
       "      <td>1</td>\n",
       "      <td>2</td>\n",
       "      <td>US</td>\n",
       "      <td>3</td>\n",
       "      <td>1</td>\n",
       "      <td>3</td>\n",
       "      <td>...</td>\n",
       "      <td>3</td>\n",
       "      <td>1</td>\n",
       "      <td>1</td>\n",
       "      <td>1</td>\n",
       "      <td>3</td>\n",
       "      <td>1</td>\n",
       "      <td>3</td>\n",
       "      <td>1</td>\n",
       "      <td>5</td>\n",
       "      <td>3</td>\n",
       "    </tr>\n",
       "  </tbody>\n",
       "</table>\n",
       "<p>5 rows × 57 columns</p>\n",
       "</div>"
      ],
      "text/plain": [
       "   race  age  engnat  gender  hand  source country  E1  E2  E3  ...  O1  O2  \\\n",
       "0     3   53       1       1     1       1      US   4   2   5  ...   4   1   \n",
       "1    13   46       1       2     1       1      US   2   2   3  ...   3   3   \n",
       "2     1   14       2       2     1       1      PK   5   1   1  ...   4   5   \n",
       "3     3   19       2       2     1       1      RO   2   5   2  ...   4   3   \n",
       "4    11   25       2       2     1       2      US   3   1   3  ...   3   1   \n",
       "\n",
       "   O3  O4  O5  O6  O7  O8  O9  O10  \n",
       "0   3   1   5   1   4   2   5    5  \n",
       "1   3   3   2   3   3   1   3    2  \n",
       "2   5   1   5   1   5   5   5    5  \n",
       "3   5   2   4   2   5   2   5    5  \n",
       "4   1   1   3   1   3   1   5    3  \n",
       "\n",
       "[5 rows x 57 columns]"
      ]
     },
     "execution_count": 2,
     "metadata": {},
     "output_type": "execute_result"
    }
   ],
   "source": [
    "raw.head() # Let's see how the data looks like"
   ]
  },
  {
   "cell_type": "code",
   "execution_count": 3,
   "id": "fff36410",
   "metadata": {},
   "outputs": [
    {
     "data": {
      "text/plain": [
       "<AxesSubplot:>"
      ]
     },
     "execution_count": 3,
     "metadata": {},
     "output_type": "execute_result"
    },
    {
     "data": {
      "image/png": "[encoded data removed]",
      "text/plain": [
       "<Figure size 720x504 with 1 Axes>"
      ]
     },
     "metadata": {
      "needs_background": "light"
     },
     "output_type": "display_data"
    }
   ],
   "source": [
    "raw['age'].value_counts().plot(kind='barh',figsize=(10,7)) \n",
    "# Some people enterd their year of birth by accidant"
   ]
  },
  {
   "cell_type": "code",
   "execution_count": 4,
   "id": "a1001d21",
   "metadata": {},
   "outputs": [],
   "source": [
    "raw.loc[raw['age']>1900, 'age'] = 2012 - raw.loc[raw['age']>1900, 'age']\n",
    "# The test was conducted in 2012 so this should give us their age"
   ]
  },
  {
   "cell_type": "code",
   "execution_count": 5,
   "id": "53dda732",
   "metadata": {},
   "outputs": [
    {
     "data": {
      "text/plain": [
       "<AxesSubplot:>"
      ]
     },
     "execution_count": 5,
     "metadata": {},
     "output_type": "execute_result"
    },
    {
     "data": {
      "image/png": "[encoded data removed]",
      "text/plain": [
       "<Figure size 720x504 with 1 Axes>"
      ]
     },
     "metadata": {
      "needs_background": "light"
     },
     "output_type": "display_data"
    }
   ],
   "source": [
    "raw['age'].value_counts().plot(kind='barh',figsize=(10,7)) \n",
    "# Fixed some of it, but some still dont make sense"
   ]
  },
  {
   "cell_type": "code",
   "execution_count": 6,
   "id": "c3cbd8a0",
   "metadata": {},
   "outputs": [],
   "source": [
    "raw = raw[raw.age < 100]\n",
    "raw = raw[raw.age >= 15]\n",
    "# We are removing invalid age numbers because we believe the same people might not have responded truthfully\n",
    "# to the questions later on"
   ]
  },
  {
   "cell_type": "code",
   "execution_count": 7,
   "id": "601d5078",
   "metadata": {},
   "outputs": [
    {
     "data": {
      "text/plain": [
       "<AxesSubplot:>"
      ]
     },
     "execution_count": 7,
     "metadata": {},
     "output_type": "execute_result"
    },
    {
     "data": {
      "image/png": "[encoded data removed]",
      "text/plain": [
       "<Figure size 720x504 with 1 Axes>"
      ]
     },
     "metadata": {
      "needs_background": "light"
     },
     "output_type": "display_data"
    }
   ],
   "source": [
    "raw['age'].value_counts().plot(kind='barh',figsize=(10,7))\n",
    "# now only truthful subjects are included"
   ]
  },
  {
   "cell_type": "code",
   "execution_count": 8,
   "id": "010c4f90",
   "metadata": {},
   "outputs": [],
   "source": [
    "raw = raw.drop('age', axis=1).drop('engnat', axis=1).drop('race', axis=1).drop('hand', axis=1).drop('source', axis=1)\n",
    "# Droping these columns, but the country column will be relevant"
   ]
  },
  {
   "cell_type": "code",
   "execution_count": 9,
   "id": "6c266107",
   "metadata": {},
   "outputs": [
    {
     "data": {
      "text/html": [
       "<div>\n",
       "<style scoped>\n",
       "    .dataframe tbody tr th:only-of-type {\n",
       "        vertical-align: middle;\n",
       "    }\n",
       "\n",
       "    .dataframe tbody tr th {\n",
       "        vertical-align: top;\n",
       "    }\n",
       "\n",
       "    .dataframe thead th {\n",
       "        text-align: right;\n",
       "    }\n",
       "</style>\n",
       "<table border=\"1\" class=\"dataframe\">\n",
       "  <thead>\n",
       "    <tr style=\"text-align: right;\">\n",
       "      <th></th>\n",
       "      <th>gender</th>\n",
       "      <th>country</th>\n",
       "      <th>E1</th>\n",
       "      <th>E2</th>\n",
       "      <th>E3</th>\n",
       "      <th>E4</th>\n",
       "      <th>E5</th>\n",
       "      <th>E6</th>\n",
       "      <th>E7</th>\n",
       "      <th>E8</th>\n",
       "      <th>...</th>\n",
       "      <th>O1</th>\n",
       "      <th>O2</th>\n",
       "      <th>O3</th>\n",
       "      <th>O4</th>\n",
       "      <th>O5</th>\n",
       "      <th>O6</th>\n",
       "      <th>O7</th>\n",
       "      <th>O8</th>\n",
       "      <th>O9</th>\n",
       "      <th>O10</th>\n",
       "    </tr>\n",
       "  </thead>\n",
       "  <tbody>\n",
       "    <tr>\n",
       "      <th>0</th>\n",
       "      <td>1</td>\n",
       "      <td>US</td>\n",
       "      <td>4</td>\n",
       "      <td>2</td>\n",
       "      <td>5</td>\n",
       "      <td>2</td>\n",
       "      <td>5</td>\n",
       "      <td>1</td>\n",
       "      <td>4</td>\n",
       "      <td>3</td>\n",
       "      <td>...</td>\n",
       "      <td>4</td>\n",
       "      <td>1</td>\n",
       "      <td>3</td>\n",
       "      <td>1</td>\n",
       "      <td>5</td>\n",
       "      <td>1</td>\n",
       "      <td>4</td>\n",
       "      <td>2</td>\n",
       "      <td>5</td>\n",
       "      <td>5</td>\n",
       "    </tr>\n",
       "    <tr>\n",
       "      <th>1</th>\n",
       "      <td>2</td>\n",
       "      <td>US</td>\n",
       "      <td>2</td>\n",
       "      <td>2</td>\n",
       "      <td>3</td>\n",
       "      <td>3</td>\n",
       "      <td>3</td>\n",
       "      <td>3</td>\n",
       "      <td>1</td>\n",
       "      <td>5</td>\n",
       "      <td>...</td>\n",
       "      <td>3</td>\n",
       "      <td>3</td>\n",
       "      <td>3</td>\n",
       "      <td>3</td>\n",
       "      <td>2</td>\n",
       "      <td>3</td>\n",
       "      <td>3</td>\n",
       "      <td>1</td>\n",
       "      <td>3</td>\n",
       "      <td>2</td>\n",
       "    </tr>\n",
       "    <tr>\n",
       "      <th>3</th>\n",
       "      <td>2</td>\n",
       "      <td>RO</td>\n",
       "      <td>2</td>\n",
       "      <td>5</td>\n",
       "      <td>2</td>\n",
       "      <td>4</td>\n",
       "      <td>3</td>\n",
       "      <td>4</td>\n",
       "      <td>3</td>\n",
       "      <td>4</td>\n",
       "      <td>...</td>\n",
       "      <td>4</td>\n",
       "      <td>3</td>\n",
       "      <td>5</td>\n",
       "      <td>2</td>\n",
       "      <td>4</td>\n",
       "      <td>2</td>\n",
       "      <td>5</td>\n",
       "      <td>2</td>\n",
       "      <td>5</td>\n",
       "      <td>5</td>\n",
       "    </tr>\n",
       "    <tr>\n",
       "      <th>4</th>\n",
       "      <td>2</td>\n",
       "      <td>US</td>\n",
       "      <td>3</td>\n",
       "      <td>1</td>\n",
       "      <td>3</td>\n",
       "      <td>3</td>\n",
       "      <td>3</td>\n",
       "      <td>1</td>\n",
       "      <td>3</td>\n",
       "      <td>1</td>\n",
       "      <td>...</td>\n",
       "      <td>3</td>\n",
       "      <td>1</td>\n",
       "      <td>1</td>\n",
       "      <td>1</td>\n",
       "      <td>3</td>\n",
       "      <td>1</td>\n",
       "      <td>3</td>\n",
       "      <td>1</td>\n",
       "      <td>5</td>\n",
       "      <td>3</td>\n",
       "    </tr>\n",
       "    <tr>\n",
       "      <th>5</th>\n",
       "      <td>2</td>\n",
       "      <td>US</td>\n",
       "      <td>1</td>\n",
       "      <td>5</td>\n",
       "      <td>2</td>\n",
       "      <td>4</td>\n",
       "      <td>1</td>\n",
       "      <td>3</td>\n",
       "      <td>2</td>\n",
       "      <td>4</td>\n",
       "      <td>...</td>\n",
       "      <td>4</td>\n",
       "      <td>2</td>\n",
       "      <td>1</td>\n",
       "      <td>3</td>\n",
       "      <td>3</td>\n",
       "      <td>5</td>\n",
       "      <td>5</td>\n",
       "      <td>4</td>\n",
       "      <td>5</td>\n",
       "      <td>3</td>\n",
       "    </tr>\n",
       "  </tbody>\n",
       "</table>\n",
       "<p>5 rows × 52 columns</p>\n",
       "</div>"
      ],
      "text/plain": [
       "   gender country  E1  E2  E3  E4  E5  E6  E7  E8  ...  O1  O2  O3  O4  O5  \\\n",
       "0       1      US   4   2   5   2   5   1   4   3  ...   4   1   3   1   5   \n",
       "1       2      US   2   2   3   3   3   3   1   5  ...   3   3   3   3   2   \n",
       "3       2      RO   2   5   2   4   3   4   3   4  ...   4   3   5   2   4   \n",
       "4       2      US   3   1   3   3   3   1   3   1  ...   3   1   1   1   3   \n",
       "5       2      US   1   5   2   4   1   3   2   4  ...   4   2   1   3   3   \n",
       "\n",
       "   O6  O7  O8  O9  O10  \n",
       "0   1   4   2   5    5  \n",
       "1   3   3   1   3    2  \n",
       "3   2   5   2   5    5  \n",
       "4   1   3   1   5    3  \n",
       "5   5   5   4   5    3  \n",
       "\n",
       "[5 rows x 52 columns]"
      ]
     },
     "execution_count": 9,
     "metadata": {},
     "output_type": "execute_result"
    }
   ],
   "source": [
    "raw.head()"
   ]
  },
  {
   "cell_type": "code",
   "execution_count": 10,
   "id": "480ed206",
   "metadata": {},
   "outputs": [
    {
     "data": {
      "text/plain": [
       "country    10.0\n",
       "dtype: float64"
      ]
     },
     "execution_count": 10,
     "metadata": {},
     "output_type": "execute_result"
    }
   ],
   "source": [
    "countries = pd.DataFrame(raw['country'].loc[raw['country']!='(nu'].value_counts()) # '(nu' is the symbol for null\n",
    "countries.median() # There are alot of countries with very few subjects. Not enough to make conclusions"
   ]
  },
  {
   "cell_type": "code",
   "execution_count": 11,
   "id": "71df3b8a",
   "metadata": {},
   "outputs": [
    {
     "data": {
      "text/plain": [
       "country    895.0\n",
       "dtype: float64"
      ]
     },
     "execution_count": 11,
     "metadata": {},
     "output_type": "execute_result"
    }
   ],
   "source": [
    "countries = countries.loc[countries['country'] >= 200]\n",
    "countries.median()"
   ]
  },
  {
   "cell_type": "code",
   "execution_count": 12,
   "id": "7e4cdf5b",
   "metadata": {},
   "outputs": [
    {
     "data": {
      "text/plain": [
       "9"
      ]
     },
     "execution_count": 12,
     "metadata": {},
     "output_type": "execute_result"
    }
   ],
   "source": [
    "len(countries) # So we're left with 9 countries"
   ]
  },
  {
   "cell_type": "code",
   "execution_count": 13,
   "id": "3f4f5b57",
   "metadata": {},
   "outputs": [],
   "source": [
    "raw = raw.loc[raw['country'].isin(countries.index)] # Keep only those countries"
   ]
  },
  {
   "cell_type": "code",
   "execution_count": 14,
   "id": "b16f88b9",
   "metadata": {},
   "outputs": [
    {
     "data": {
      "text/plain": [
       "9"
      ]
     },
     "execution_count": 14,
     "metadata": {},
     "output_type": "execute_result"
    }
   ],
   "source": [
    "len(raw['country'].value_counts()) # Seems like it worked!"
   ]
  },
  {
   "cell_type": "markdown",
   "id": "be0fee51",
   "metadata": {},
   "source": [
    "Now the problem is that most skl algorithms dont know how to use strings for their predictions. So, we will split\n",
    "the column 'country' into 9 columns of countries which will contain ones and zeros:\n",
    "one if the subject is from the column's name (country)\n",
    "or zero if not.\n",
    "in each row there sould be exactly one \"1\"."
   ]
  },
  {
   "cell_type": "code",
   "execution_count": 15,
   "id": "8f2d5aa7",
   "metadata": {},
   "outputs": [],
   "source": [
    "n_data = raw.join(raw['country'].str.get_dummies(), how='right') \n",
    "# Combining the raw Data Frame to the new Data Frame"
   ]
  },
  {
   "cell_type": "code",
   "execution_count": 16,
   "id": "f9993150",
   "metadata": {},
   "outputs": [
    {
     "data": {
      "text/html": [
       "<div>\n",
       "<style scoped>\n",
       "    .dataframe tbody tr th:only-of-type {\n",
       "        vertical-align: middle;\n",
       "    }\n",
       "\n",
       "    .dataframe tbody tr th {\n",
       "        vertical-align: top;\n",
       "    }\n",
       "\n",
       "    .dataframe thead th {\n",
       "        text-align: right;\n",
       "    }\n",
       "</style>\n",
       "<table border=\"1\" class=\"dataframe\">\n",
       "  <thead>\n",
       "    <tr style=\"text-align: right;\">\n",
       "      <th></th>\n",
       "      <th>gender</th>\n",
       "      <th>country</th>\n",
       "      <th>E1</th>\n",
       "      <th>E2</th>\n",
       "      <th>E3</th>\n",
       "      <th>E4</th>\n",
       "      <th>E5</th>\n",
       "      <th>E6</th>\n",
       "      <th>E7</th>\n",
       "      <th>E8</th>\n",
       "      <th>...</th>\n",
       "      <th>O10</th>\n",
       "      <th>AU</th>\n",
       "      <th>CA</th>\n",
       "      <th>GB</th>\n",
       "      <th>IN</th>\n",
       "      <th>IT</th>\n",
       "      <th>MY</th>\n",
       "      <th>PH</th>\n",
       "      <th>PK</th>\n",
       "      <th>US</th>\n",
       "    </tr>\n",
       "  </thead>\n",
       "  <tbody>\n",
       "    <tr>\n",
       "      <th>0</th>\n",
       "      <td>1</td>\n",
       "      <td>US</td>\n",
       "      <td>4</td>\n",
       "      <td>2</td>\n",
       "      <td>5</td>\n",
       "      <td>2</td>\n",
       "      <td>5</td>\n",
       "      <td>1</td>\n",
       "      <td>4</td>\n",
       "      <td>3</td>\n",
       "      <td>...</td>\n",
       "      <td>5</td>\n",
       "      <td>0</td>\n",
       "      <td>0</td>\n",
       "      <td>0</td>\n",
       "      <td>0</td>\n",
       "      <td>0</td>\n",
       "      <td>0</td>\n",
       "      <td>0</td>\n",
       "      <td>0</td>\n",
       "      <td>1</td>\n",
       "    </tr>\n",
       "    <tr>\n",
       "      <th>1</th>\n",
       "      <td>2</td>\n",
       "      <td>US</td>\n",
       "      <td>2</td>\n",
       "      <td>2</td>\n",
       "      <td>3</td>\n",
       "      <td>3</td>\n",
       "      <td>3</td>\n",
       "      <td>3</td>\n",
       "      <td>1</td>\n",
       "      <td>5</td>\n",
       "      <td>...</td>\n",
       "      <td>2</td>\n",
       "      <td>0</td>\n",
       "      <td>0</td>\n",
       "      <td>0</td>\n",
       "      <td>0</td>\n",
       "      <td>0</td>\n",
       "      <td>0</td>\n",
       "      <td>0</td>\n",
       "      <td>0</td>\n",
       "      <td>1</td>\n",
       "    </tr>\n",
       "    <tr>\n",
       "      <th>4</th>\n",
       "      <td>2</td>\n",
       "      <td>US</td>\n",
       "      <td>3</td>\n",
       "      <td>1</td>\n",
       "      <td>3</td>\n",
       "      <td>3</td>\n",
       "      <td>3</td>\n",
       "      <td>1</td>\n",
       "      <td>3</td>\n",
       "      <td>1</td>\n",
       "      <td>...</td>\n",
       "      <td>3</td>\n",
       "      <td>0</td>\n",
       "      <td>0</td>\n",
       "      <td>0</td>\n",
       "      <td>0</td>\n",
       "      <td>0</td>\n",
       "      <td>0</td>\n",
       "      <td>0</td>\n",
       "      <td>0</td>\n",
       "      <td>1</td>\n",
       "    </tr>\n",
       "    <tr>\n",
       "      <th>5</th>\n",
       "      <td>2</td>\n",
       "      <td>US</td>\n",
       "      <td>1</td>\n",
       "      <td>5</td>\n",
       "      <td>2</td>\n",
       "      <td>4</td>\n",
       "      <td>1</td>\n",
       "      <td>3</td>\n",
       "      <td>2</td>\n",
       "      <td>4</td>\n",
       "      <td>...</td>\n",
       "      <td>3</td>\n",
       "      <td>0</td>\n",
       "      <td>0</td>\n",
       "      <td>0</td>\n",
       "      <td>0</td>\n",
       "      <td>0</td>\n",
       "      <td>0</td>\n",
       "      <td>0</td>\n",
       "      <td>0</td>\n",
       "      <td>1</td>\n",
       "    </tr>\n",
       "    <tr>\n",
       "      <th>6</th>\n",
       "      <td>2</td>\n",
       "      <td>US</td>\n",
       "      <td>5</td>\n",
       "      <td>1</td>\n",
       "      <td>5</td>\n",
       "      <td>1</td>\n",
       "      <td>5</td>\n",
       "      <td>1</td>\n",
       "      <td>5</td>\n",
       "      <td>4</td>\n",
       "      <td>...</td>\n",
       "      <td>4</td>\n",
       "      <td>0</td>\n",
       "      <td>0</td>\n",
       "      <td>0</td>\n",
       "      <td>0</td>\n",
       "      <td>0</td>\n",
       "      <td>0</td>\n",
       "      <td>0</td>\n",
       "      <td>0</td>\n",
       "      <td>1</td>\n",
       "    </tr>\n",
       "  </tbody>\n",
       "</table>\n",
       "<p>5 rows × 61 columns</p>\n",
       "</div>"
      ],
      "text/plain": [
       "   gender country  E1  E2  E3  E4  E5  E6  E7  E8  ...  O10  AU  CA  GB  IN  \\\n",
       "0       1      US   4   2   5   2   5   1   4   3  ...    5   0   0   0   0   \n",
       "1       2      US   2   2   3   3   3   3   1   5  ...    2   0   0   0   0   \n",
       "4       2      US   3   1   3   3   3   1   3   1  ...    3   0   0   0   0   \n",
       "5       2      US   1   5   2   4   1   3   2   4  ...    3   0   0   0   0   \n",
       "6       2      US   5   1   5   1   5   1   5   4  ...    4   0   0   0   0   \n",
       "\n",
       "   IT  MY  PH  PK  US  \n",
       "0   0   0   0   0   1  \n",
       "1   0   0   0   0   1  \n",
       "4   0   0   0   0   1  \n",
       "5   0   0   0   0   1  \n",
       "6   0   0   0   0   1  \n",
       "\n",
       "[5 rows x 61 columns]"
      ]
     },
     "execution_count": 16,
     "metadata": {},
     "output_type": "execute_result"
    }
   ],
   "source": [
    "n_data.head()"
   ]
  },
  {
   "cell_type": "code",
   "execution_count": 19,
   "id": "ac9313c8",
   "metadata": {
    "scrolled": true
   },
   "outputs": [
    {
     "data": {
      "text/plain": [
       "<AxesSubplot:>"
      ]
     },
     "execution_count": 19,
     "metadata": {},
     "output_type": "execute_result"
    },
    {
     "data": {
      "image/png": "[encoded data removed]",
      "text/plain": [
       "<Figure size 576x432 with 2 Axes>"
      ]
     },
     "metadata": {
      "needs_background": "light"
     },
     "output_type": "display_data"
    }
   ],
   "source": [
    "from matplotlib import pyplot as plt\n",
    "import seaborn as sns\n",
    "ax = plt.subplots(figsize=(8,6)) \n",
    "sns.heatmap(n_data.iloc[:, 0:51].corr(), cmap='jet_r')\n",
    "# Each question at any given trait is correlated with other questions in the same trait.\n",
    "# But the same questions are only mildly correlated or not corelated at all with questions from other traits.\n",
    "# This is expected from this model and proves the datas validity"
   ]
  },
  {
   "cell_type": "markdown",
   "id": "092e530a",
   "metadata": {},
   "source": [
    "Now we will change the 'gender' column to a binary form"
   ]
  },
  {
   "cell_type": "code",
   "execution_count": 20,
   "id": "8352ca9e",
   "metadata": {},
   "outputs": [
    {
     "data": {
      "text/plain": [
       "2    8960\n",
       "1    5370\n",
       "3      69\n",
       "0      20\n",
       "Name: gender, dtype: int64"
      ]
     },
     "execution_count": 20,
     "metadata": {},
     "output_type": "execute_result"
    }
   ],
   "source": [
    "n_data['gender'].value_counts()"
   ]
  },
  {
   "cell_type": "code",
   "execution_count": 21,
   "id": "de1c2efa",
   "metadata": {},
   "outputs": [],
   "source": [
    "n_data['gender'] = n_data['gender'] - 1 # now 1 is female and 0 is male"
   ]
  },
  {
   "cell_type": "code",
   "execution_count": 22,
   "id": "4c3663ad",
   "metadata": {},
   "outputs": [],
   "source": [
    "n_data = n_data.loc[n_data['gender']!=2] # 3 was \"other\", sorry "
   ]
  },
  {
   "cell_type": "code",
   "execution_count": 23,
   "id": "c3addee3",
   "metadata": {},
   "outputs": [],
   "source": [
    "n_data = n_data.loc[n_data['gender']!=-1] # 0 was \"rather not say\""
   ]
  },
  {
   "cell_type": "code",
   "execution_count": 24,
   "id": "cecfa633",
   "metadata": {},
   "outputs": [
    {
     "data": {
      "text/plain": [
       "1    8960\n",
       "0    5370\n",
       "Name: gender, dtype: int64"
      ]
     },
     "execution_count": 24,
     "metadata": {},
     "output_type": "execute_result"
    }
   ],
   "source": [
    "n_data['gender'].value_counts() # now it's binary"
   ]
  },
  {
   "cell_type": "code",
   "execution_count": 25,
   "id": "c60a3571",
   "metadata": {},
   "outputs": [],
   "source": [
    "from sklearn.utils import shuffle"
   ]
  },
  {
   "cell_type": "markdown",
   "id": "af311970",
   "metadata": {},
   "source": [
    "Now we will make sure that data doesn't leak through the countries columns"
   ]
  },
  {
   "cell_type": "code",
   "execution_count": 26,
   "id": "2a8cb840",
   "metadata": {},
   "outputs": [
    {
     "name": "stdout",
     "output_type": "stream",
     "text": [
      "US  : \n",
      "1    5505\n",
      "0    2818\n",
      "Name: gender, dtype: int64\n",
      "IN  : \n",
      "0    838\n",
      "1    609\n",
      "Name: gender, dtype: int64\n",
      "GB  : \n",
      "1    851\n",
      "0    575\n",
      "Name: gender, dtype: int64\n",
      "AU  : \n",
      "1    571\n",
      "0    343\n",
      "Name: gender, dtype: int64\n",
      "CA  : \n",
      "1    563\n",
      "0    324\n",
      "Name: gender, dtype: int64\n",
      "PH  : \n",
      "1    444\n",
      "0    159\n",
      "Name: gender, dtype: int64\n",
      "IT  : \n",
      "1    152\n",
      "0    120\n",
      "Name: gender, dtype: int64\n",
      "MY  : \n",
      "1    153\n",
      "0     89\n",
      "Name: gender, dtype: int64\n",
      "PK  : \n",
      "1    112\n",
      "0    104\n",
      "Name: gender, dtype: int64\n"
     ]
    }
   ],
   "source": [
    "for cnt in countries.index:\n",
    "    print(cnt, ' : ')\n",
    "    print(n_data.loc[n_data['country'] == cnt]['gender'].value_counts())\n",
    "# Here we see that some countries hve different female to male ratios. \n",
    "# This might mean that we have a data leakage\n"
   ]
  },
  {
   "cell_type": "code",
   "execution_count": 27,
   "id": "d233ad92",
   "metadata": {},
   "outputs": [],
   "source": [
    "# let's fix it\n",
    "even = n_data[:0] # A new DF that has only the columns of n_data\n",
    "for cnt in countries.index:  \n",
    "    temp = n_data.loc[raw['country']==cnt] # A temporary DF of only one country (cnt)\n",
    "    fem = temp.loc[temp['gender']==1] # Only the females in that country \n",
    "    mal = temp.loc[temp['gender']==0] # Only the males in that country\n",
    "    if len(fem)<len(mal): # Making the female DF and the malse DF the same length\n",
    "        mal = mal[:len(fem)]\n",
    "    else:\n",
    "        fem = fem[:len(mal)]\n",
    "    even = even.append(fem.append(mal)) # Adding those, now even, male and female DF's to 'even'"
   ]
  },
  {
   "cell_type": "code",
   "execution_count": 28,
   "id": "66c703f6",
   "metadata": {},
   "outputs": [
    {
     "data": {
      "text/plain": [
       "0    5141\n",
       "1    5141\n",
       "Name: gender, dtype: int64"
      ]
     },
     "execution_count": 28,
     "metadata": {},
     "output_type": "execute_result"
    }
   ],
   "source": [
    "n_data = shuffle(shuffle(even)) \n",
    "# The subjects are now clumped up in chunks of countries, and half male half female so a shuffle is needed\n",
    "n_data['gender'].value_counts()"
   ]
  },
  {
   "cell_type": "code",
   "execution_count": 29,
   "id": "673d1bb8",
   "metadata": {},
   "outputs": [
    {
     "name": "stdout",
     "output_type": "stream",
     "text": [
      "US  : \n",
      "0    2818\n",
      "1    2818\n",
      "Name: gender, dtype: int64\n",
      "IN  : \n",
      "0    609\n",
      "1    609\n",
      "Name: gender, dtype: int64\n",
      "GB  : \n",
      "0    575\n",
      "1    575\n",
      "Name: gender, dtype: int64\n",
      "AU  : \n",
      "0    343\n",
      "1    343\n",
      "Name: gender, dtype: int64\n",
      "CA  : \n",
      "0    324\n",
      "1    324\n",
      "Name: gender, dtype: int64\n",
      "PH  : \n",
      "0    159\n",
      "1    159\n",
      "Name: gender, dtype: int64\n",
      "IT  : \n",
      "0    120\n",
      "1    120\n",
      "Name: gender, dtype: int64\n",
      "MY  : \n",
      "0    89\n",
      "1    89\n",
      "Name: gender, dtype: int64\n",
      "PK  : \n",
      "0    104\n",
      "1    104\n",
      "Name: gender, dtype: int64\n"
     ]
    }
   ],
   "source": [
    "for cnt in countries.index:\n",
    "    print(cnt, ' : ')\n",
    "    print(n_data.loc[n_data['country'] == cnt]['gender'].value_counts())\n",
    "# Good! Now the algorithm can't cheat and use the female to male ratio in a given country to decide"
   ]
  },
  {
   "cell_type": "code",
   "execution_count": 30,
   "id": "a93315bc",
   "metadata": {},
   "outputs": [],
   "source": [
    "n_data = n_data.drop('country', axis=1) # we ahve no use for the 'country' column antmore"
   ]
  },
  {
   "cell_type": "code",
   "execution_count": 31,
   "id": "9cb1ca23",
   "metadata": {},
   "outputs": [],
   "source": [
    "to = 2000\n",
    "train = n_data[:to]\n",
    "test = n_data[to:]"
   ]
  },
  {
   "cell_type": "code",
   "execution_count": 32,
   "id": "f8253906",
   "metadata": {},
   "outputs": [],
   "source": [
    "trainx = train.drop('gender',axis=1)\n",
    "trainy = train['gender']"
   ]
  },
  {
   "cell_type": "code",
   "execution_count": 53,
   "id": "eb8d3b15",
   "metadata": {},
   "outputs": [],
   "source": [
    "from sklearn import linear_model\n",
    "from sklearn.model_selection import cross_val_score\n",
    "from sklearn.dummy import DummyClassifier"
   ]
  },
  {
   "cell_type": "code",
   "execution_count": 34,
   "id": "c8d07b69",
   "metadata": {},
   "outputs": [],
   "source": [
    "from sklearn import linear_model\n",
    "from sklearn.tree import DecisionTreeClassifier\n",
    "from sklearn.neighbors import KNeighborsClassifier\n",
    "from sklearn.metrics import f1_score"
   ]
  },
  {
   "cell_type": "code",
   "execution_count": 54,
   "id": "f5a5bd24",
   "metadata": {},
   "outputs": [],
   "source": [
    "dum = DummyClassifier()"
   ]
  },
  {
   "cell_type": "code",
   "execution_count": 67,
   "id": "8ad51af7",
   "metadata": {},
   "outputs": [
    {
     "data": {
      "text/plain": [
       "0.6496264510687317"
      ]
     },
     "execution_count": 67,
     "metadata": {},
     "output_type": "execute_result"
    }
   ],
   "source": [
    "cross_val_score(reg, trainx, trainy, cv=5,scoring='f1').mean()"
   ]
  },
  {
   "cell_type": "code",
   "execution_count": 35,
   "id": "4c6eb1cf",
   "metadata": {},
   "outputs": [],
   "source": [
    "reg = linear_model.LogisticRegression() "
   ]
  },
  {
   "cell_type": "code",
   "execution_count": 36,
   "id": "4dcdbec3",
   "metadata": {},
   "outputs": [],
   "source": [
    "reg = linear_model.LinearRegression() \n",
    "# Not suitable for classifying"
   ]
  },
  {
   "cell_type": "code",
   "execution_count": 37,
   "id": "6996d37c",
   "metadata": {},
   "outputs": [],
   "source": [
    "reg = DecisionTreeClassifier()"
   ]
  },
  {
   "cell_type": "code",
   "execution_count": 38,
   "id": "9d70bd53",
   "metadata": {},
   "outputs": [],
   "source": [
    "reg = KNeighborsClassifier(n_neighbors=40) "
   ]
  },
  {
   "cell_type": "code",
   "execution_count": 39,
   "id": "1e68b213",
   "metadata": {},
   "outputs": [],
   "source": [
    "reg = linear_model.RidgeClassifierCV()"
   ]
  },
  {
   "cell_type": "code",
   "execution_count": 70,
   "id": "fe43ad54",
   "metadata": {},
   "outputs": [
    {
     "name": "stdout",
     "output_type": "stream",
     "text": [
      "Accuracy avg: 0.6465099999999999\n",
      "F1 score:     0.6565021249487945\n",
      "Dummy score:  0.5045\n",
      "Difference:   0.14200999999999997\n"
     ]
    }
   ],
   "source": [
    "scrs = []\n",
    "f_scr = []\n",
    "\n",
    "for i in range(50):\n",
    "    train = shuffle(train) # Shuffling the trainin set to get the most out of it\n",
    "    trainx = train.drop('gender',axis=1)\n",
    "    trainy = train['gender']\n",
    "    scrs.append(cross_val_score(reg, trainx, trainy, cv=5).mean())\n",
    "    f_scr.append(cross_val_score(reg, trainx, trainy, cv=5,scoring='f1').mean())\n",
    "    \n",
    "print('Accuracy avg:', sum(scrs) / len(scrs)) \n",
    "print('F1 score:    ', sum(f_scr)/len(f_scr))\n",
    "dmscr = cross_val_score(dum, trainx, trainy, cv=5).mean() # calculating the mean score of the DummyClassifier\n",
    "print('Dummy score: ', dmscr)\n",
    "dif = abs((sum(scrs) / len(scrs))- dmscr)\n",
    "print('Difference:  ',dif)\n",
    "df_ovr_dum = dif / (1-dmscr)\n",
    "# this shows us the difference between the avg of the accuracy and the avg of the DummyClassifier score in those tests\n",
    "# this tells us how much accuracy the model is responsible for"
   ]
  },
  {
   "cell_type": "code",
   "execution_count": 71,
   "id": "c2c6c507",
   "metadata": {},
   "outputs": [],
   "source": [
    "plot_d = n_data\n",
    "# making new DataFrame to work on for"
   ]
  },
  {
   "cell_type": "code",
   "execution_count": 72,
   "id": "8e3a8750",
   "metadata": {},
   "outputs": [],
   "source": [
    "chrs = {'O','C','E','A','N'}\n",
    "qs = [] # A list of the questions asked\n",
    "diff = [] # A list of the difference bitween the mean of male answers and menof female answers\n",
    "for c in chrs:\n",
    "    for i in range(10):\n",
    "        s = c+str(i+1) # s looks like a question lable for example: 'C10\n",
    "        qs.append(s) # adding the qeustion lable to the list\n",
    "        diff.append((plot_d.loc[plot_d['gender']==0][s].mean()-plot_d.loc[plot_d['gender']==1][s].mean()))\n",
    "        # adding the difference to the list in the same order as the questions"
   ]
  },
  {
   "cell_type": "code",
   "execution_count": 73,
   "id": "77421a67",
   "metadata": {
    "scrolled": false
   },
   "outputs": [
    {
     "name": "stdout",
     "output_type": "stream",
     "text": [
      "Positive: Men scored higher \n",
      "Negative: Women scored higher \n"
     ]
    },
    {
     "data": {
      "image/png": "[encoded data removed]",
      "text/plain": [
       "<Figure size 576x360 with 1 Axes>"
      ]
     },
     "metadata": {
      "needs_background": "light"
     },
     "output_type": "display_data"
    }
   ],
   "source": [
    "pd.DataFrame(diff,qs).sort_values(by=0,ascending=False).plot(kind='bar',\n",
    "            figsize=(8,5),legend=False, title='Differences in Answers')\n",
    "\n",
    "#Some questions are more important than others. Let's see that:\n",
    "print('Positive: Men scored higher ')\n",
    "print('Negative: Women scored higher ')\n",
    "# This new data is especialy interesting when comparing it to the info in codebook.txt"
   ]
  },
  {
   "cell_type": "code",
   "execution_count": 123,
   "id": "32f7b0da",
   "metadata": {},
   "outputs": [],
   "source": [
    "from sklearn.metrics import confusion_matrix\n",
    "from sklearn.model_selection import GridSearchCV\n",
    "import numpy as np"
   ]
  },
  {
   "cell_type": "markdown",
   "id": "5c8e5258",
   "metadata": {},
   "source": [
    "Now we will find the best hyper parameters for our model and then, at last, test it"
   ]
  },
  {
   "cell_type": "code",
   "execution_count": 124,
   "id": "b7879f84",
   "metadata": {},
   "outputs": [],
   "source": [
    "par = { 'fit_intercept':[True, False], 'normalize': [True, False], 'class_weight': ['balanced', None]}\n",
    "gs = GridSearchCV(linear_model.RidgeClassifierCV(), par,cv=5,scoring='accuracy') "
   ]
  },
  {
   "cell_type": "code",
   "execution_count": 125,
   "id": "08d45a11",
   "metadata": {},
   "outputs": [
    {
     "data": {
      "text/plain": [
       "GridSearchCV(cv=5,\n",
       "             estimator=RidgeClassifierCV(alphas=array([ 0.1,  1. , 10. ])),\n",
       "             param_grid={'class_weight': ['balanced', None],\n",
       "                         'fit_intercept': [True, False],\n",
       "                         'normalize': [True, False]},\n",
       "             scoring='accuracy')"
      ]
     },
     "execution_count": 125,
     "metadata": {},
     "output_type": "execute_result"
    }
   ],
   "source": [
    "gs.fit(trainx,trainy) "
   ]
  },
  {
   "cell_type": "code",
   "execution_count": 126,
   "id": "6e0143c1",
   "metadata": {},
   "outputs": [
    {
     "data": {
      "text/plain": [
       "{'class_weight': None, 'fit_intercept': True, 'normalize': True}"
      ]
     },
     "execution_count": 126,
     "metadata": {},
     "output_type": "execute_result"
    }
   ],
   "source": [
    "gs.best_params_ # The best hyper parameters"
   ]
  },
  {
   "cell_type": "code",
   "execution_count": 127,
   "id": "89c56999",
   "metadata": {},
   "outputs": [],
   "source": [
    "reg = linear_model.RidgeClassifierCV(alphas=(0.1, 1, 10, 0.05, 0.5, 5), fit_intercept=True, normalize=True,cv=5)"
   ]
  },
  {
   "cell_type": "code",
   "execution_count": 128,
   "id": "a1cfaec1",
   "metadata": {},
   "outputs": [
    {
     "data": {
      "text/plain": [
       "DummyClassifier()"
      ]
     },
     "execution_count": 128,
     "metadata": {},
     "output_type": "execute_result"
    }
   ],
   "source": [
    "dum.fit(trainx,trainy)"
   ]
  },
  {
   "cell_type": "code",
   "execution_count": 129,
   "id": "8da2d949",
   "metadata": {},
   "outputs": [
    {
     "data": {
      "text/plain": [
       "RidgeClassifierCV(alphas=array([ 0.1 ,  1.  , 10.  ,  0.05,  0.5 ,  5.  ]),\n",
       "                  cv=5, normalize=True)"
      ]
     },
     "execution_count": 129,
     "metadata": {},
     "output_type": "execute_result"
    }
   ],
   "source": [
    "reg.fit(trainx,trainy)"
   ]
  },
  {
   "cell_type": "code",
   "execution_count": 130,
   "id": "c5428a48",
   "metadata": {},
   "outputs": [],
   "source": [
    "ans = reg.predict(test.drop('gender', axis=1))"
   ]
  },
  {
   "cell_type": "code",
   "execution_count": 131,
   "id": "d3fb8c59",
   "metadata": {},
   "outputs": [],
   "source": [
    "con = confusion_matrix(test['gender'],ans)"
   ]
  },
  {
   "cell_type": "code",
   "execution_count": 122,
   "id": "554a655e",
   "metadata": {},
   "outputs": [
    {
     "name": "stdout",
     "output_type": "stream",
     "text": [
      "Accuracy score in testing: 0.6638493117604444\n",
      "Dummy score in testing:    0.4989133059647428\n",
      "Difference:                0.16493600579570156\n"
     ]
    }
   ],
   "source": [
    "print('Accuracy score in testing:', (con[1][1] + con[0][0]) / len(test))\n",
    "dum_score = dum.score(test.drop('gender', axis=1), test['gender'])\n",
    "print('Dummy score in testing:   ', dum_score)\n",
    "spaces = '             '\n",
    "print('Difference: ',spaces, (con[1][1] + con[0][0]) / len(test) - dum_score)"
   ]
  },
  {
   "cell_type": "code",
   "execution_count": null,
   "id": "31f7bbef",
   "metadata": {},
   "outputs": [],
   "source": []
  },
  {
   "cell_type": "code",
   "execution_count": null,
   "id": "7d4e9b01",
   "metadata": {},
   "outputs": [],
   "source": []
  }
 ],
 "metadata": {
  "kernelspec": {
   "display_name": "Python 3",
   "language": "python",
   "name": "python3"
  },
  "language_info": {
   "codemirror_mode": {
    "name": "ipython",
    "version": 3
   },
   "file_extension": ".py",
   "mimetype": "text/x-python",
   "name": "python",
   "nbconvert_exporter": "python",
   "pygments_lexer": "ipython3",
   "version": "3.8.8"
  }
 },
 "nbformat": 4,
 "nbformat_minor": 5
}
