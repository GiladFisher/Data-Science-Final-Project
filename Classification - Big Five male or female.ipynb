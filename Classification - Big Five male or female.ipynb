{
 "cells": [
  {
   "cell_type": "markdown",
   "id": "4c404e05",
   "metadata": {},
   "source": [
    "First we're going to import relevant libraries and load our data:"
   ]
  },
  {
   "cell_type": "code",
   "execution_count": 315,
   "id": "40a28a1d",
   "metadata": {},
   "outputs": [],
   "source": [
    "import pandas as pd\n",
    "raw = pd.read_csv('C:\\\\Users\\Selfisher\\Desktop\\data.csv', '\\t') \n",
    "# read more about this data in the readme file"
   ]
  },
  {
   "cell_type": "code",
   "execution_count": 316,
   "id": "46d89236",
   "metadata": {
    "scrolled": true
   },
   "outputs": [
    {
     "data": {
      "text/html": [
       "<div>\n",
       "<style scoped>\n",
       "    .dataframe tbody tr th:only-of-type {\n",
       "        vertical-align: middle;\n",
       "    }\n",
       "\n",
       "    .dataframe tbody tr th {\n",
       "        vertical-align: top;\n",
       "    }\n",
       "\n",
       "    .dataframe thead th {\n",
       "        text-align: right;\n",
       "    }\n",
       "</style>\n",
       "<table border=\"1\" class=\"dataframe\">\n",
       "  <thead>\n",
       "    <tr style=\"text-align: right;\">\n",
       "      <th></th>\n",
       "      <th>race</th>\n",
       "      <th>age</th>\n",
       "      <th>engnat</th>\n",
       "      <th>gender</th>\n",
       "      <th>hand</th>\n",
       "      <th>source</th>\n",
       "      <th>country</th>\n",
       "      <th>E1</th>\n",
       "      <th>E2</th>\n",
       "      <th>E3</th>\n",
       "      <th>...</th>\n",
       "      <th>O1</th>\n",
       "      <th>O2</th>\n",
       "      <th>O3</th>\n",
       "      <th>O4</th>\n",
       "      <th>O5</th>\n",
       "      <th>O6</th>\n",
       "      <th>O7</th>\n",
       "      <th>O8</th>\n",
       "      <th>O9</th>\n",
       "      <th>O10</th>\n",
       "    </tr>\n",
       "  </thead>\n",
       "  <tbody>\n",
       "    <tr>\n",
       "      <th>0</th>\n",
       "      <td>3</td>\n",
       "      <td>53</td>\n",
       "      <td>1</td>\n",
       "      <td>1</td>\n",
       "      <td>1</td>\n",
       "      <td>1</td>\n",
       "      <td>US</td>\n",
       "      <td>4</td>\n",
       "      <td>2</td>\n",
       "      <td>5</td>\n",
       "      <td>...</td>\n",
       "      <td>4</td>\n",
       "      <td>1</td>\n",
       "      <td>3</td>\n",
       "      <td>1</td>\n",
       "      <td>5</td>\n",
       "      <td>1</td>\n",
       "      <td>4</td>\n",
       "      <td>2</td>\n",
       "      <td>5</td>\n",
       "      <td>5</td>\n",
       "    </tr>\n",
       "    <tr>\n",
       "      <th>1</th>\n",
       "      <td>13</td>\n",
       "      <td>46</td>\n",
       "      <td>1</td>\n",
       "      <td>2</td>\n",
       "      <td>1</td>\n",
       "      <td>1</td>\n",
       "      <td>US</td>\n",
       "      <td>2</td>\n",
       "      <td>2</td>\n",
       "      <td>3</td>\n",
       "      <td>...</td>\n",
       "      <td>3</td>\n",
       "      <td>3</td>\n",
       "      <td>3</td>\n",
       "      <td>3</td>\n",
       "      <td>2</td>\n",
       "      <td>3</td>\n",
       "      <td>3</td>\n",
       "      <td>1</td>\n",
       "      <td>3</td>\n",
       "      <td>2</td>\n",
       "    </tr>\n",
       "    <tr>\n",
       "      <th>2</th>\n",
       "      <td>1</td>\n",
       "      <td>14</td>\n",
       "      <td>2</td>\n",
       "      <td>2</td>\n",
       "      <td>1</td>\n",
       "      <td>1</td>\n",
       "      <td>PK</td>\n",
       "      <td>5</td>\n",
       "      <td>1</td>\n",
       "      <td>1</td>\n",
       "      <td>...</td>\n",
       "      <td>4</td>\n",
       "      <td>5</td>\n",
       "      <td>5</td>\n",
       "      <td>1</td>\n",
       "      <td>5</td>\n",
       "      <td>1</td>\n",
       "      <td>5</td>\n",
       "      <td>5</td>\n",
       "      <td>5</td>\n",
       "      <td>5</td>\n",
       "    </tr>\n",
       "    <tr>\n",
       "      <th>3</th>\n",
       "      <td>3</td>\n",
       "      <td>19</td>\n",
       "      <td>2</td>\n",
       "      <td>2</td>\n",
       "      <td>1</td>\n",
       "      <td>1</td>\n",
       "      <td>RO</td>\n",
       "      <td>2</td>\n",
       "      <td>5</td>\n",
       "      <td>2</td>\n",
       "      <td>...</td>\n",
       "      <td>4</td>\n",
       "      <td>3</td>\n",
       "      <td>5</td>\n",
       "      <td>2</td>\n",
       "      <td>4</td>\n",
       "      <td>2</td>\n",
       "      <td>5</td>\n",
       "      <td>2</td>\n",
       "      <td>5</td>\n",
       "      <td>5</td>\n",
       "    </tr>\n",
       "    <tr>\n",
       "      <th>4</th>\n",
       "      <td>11</td>\n",
       "      <td>25</td>\n",
       "      <td>2</td>\n",
       "      <td>2</td>\n",
       "      <td>1</td>\n",
       "      <td>2</td>\n",
       "      <td>US</td>\n",
       "      <td>3</td>\n",
       "      <td>1</td>\n",
       "      <td>3</td>\n",
       "      <td>...</td>\n",
       "      <td>3</td>\n",
       "      <td>1</td>\n",
       "      <td>1</td>\n",
       "      <td>1</td>\n",
       "      <td>3</td>\n",
       "      <td>1</td>\n",
       "      <td>3</td>\n",
       "      <td>1</td>\n",
       "      <td>5</td>\n",
       "      <td>3</td>\n",
       "    </tr>\n",
       "  </tbody>\n",
       "</table>\n",
       "<p>5 rows × 57 columns</p>\n",
       "</div>"
      ],
      "text/plain": [
       "   race  age  engnat  gender  hand  source country  E1  E2  E3  ...  O1  O2  \\\n",
       "0     3   53       1       1     1       1      US   4   2   5  ...   4   1   \n",
       "1    13   46       1       2     1       1      US   2   2   3  ...   3   3   \n",
       "2     1   14       2       2     1       1      PK   5   1   1  ...   4   5   \n",
       "3     3   19       2       2     1       1      RO   2   5   2  ...   4   3   \n",
       "4    11   25       2       2     1       2      US   3   1   3  ...   3   1   \n",
       "\n",
       "   O3  O4  O5  O6  O7  O8  O9  O10  \n",
       "0   3   1   5   1   4   2   5    5  \n",
       "1   3   3   2   3   3   1   3    2  \n",
       "2   5   1   5   1   5   5   5    5  \n",
       "3   5   2   4   2   5   2   5    5  \n",
       "4   1   1   3   1   3   1   5    3  \n",
       "\n",
       "[5 rows x 57 columns]"
      ]
     },
     "execution_count": 316,
     "metadata": {},
     "output_type": "execute_result"
    }
   ],
   "source": [
    "raw.head() # Let's see how the data looks like"
   ]
  },
  {
   "cell_type": "code",
   "execution_count": 317,
   "id": "fff36410",
   "metadata": {},
   "outputs": [
    {
     "data": {
      "text/plain": [
       "<AxesSubplot:>"
      ]
     },
     "execution_count": 317,
     "metadata": {},
     "output_type": "execute_result"
    },
    {
     "data": {
      "image/png": "[encoded data removed]",
      "text/plain": [
       "<Figure size 720x504 with 1 Axes>"
      ]
     },
     "metadata": {
      "needs_background": "light"
     },
     "output_type": "display_data"
    }
   ],
   "source": [
    "raw['age'].value_counts().plot(kind='barh',figsize=(10,7)) \n",
    "# some people enterd their year of birth by accidant"
   ]
  },
  {
   "cell_type": "code",
   "execution_count": 318,
   "id": "a1001d21",
   "metadata": {},
   "outputs": [],
   "source": [
    "raw.loc[raw['age']>1900, 'age'] = 2012 - raw.loc[raw['age']>1900, 'age']\n",
    "# the test was conducted in 2012 so this should give us their age"
   ]
  },
  {
   "cell_type": "code",
   "execution_count": 319,
   "id": "53dda732",
   "metadata": {},
   "outputs": [
    {
     "data": {
      "text/plain": [
       "<AxesSubplot:>"
      ]
     },
     "execution_count": 319,
     "metadata": {},
     "output_type": "execute_result"
    },
    {
     "data": {
      "image/png": "[encoded data removed]",
      "text/plain": [
       "<Figure size 720x504 with 1 Axes>"
      ]
     },
     "metadata": {
      "needs_background": "light"
     },
     "output_type": "display_data"
    }
   ],
   "source": [
    "raw['age'].value_counts().plot(kind='barh',figsize=(10,7)) \n",
    "# fixed some of it, but some still dont make sense"
   ]
  },
  {
   "cell_type": "code",
   "execution_count": 320,
   "id": "c3cbd8a0",
   "metadata": {},
   "outputs": [],
   "source": [
    "raw = raw[raw.age < 100]\n",
    "raw = raw[raw.age >= 15]\n",
    "# we are removing invalid age numbers because we believe the same people might not have responded truthfully\n",
    "# to the questions later on"
   ]
  },
  {
   "cell_type": "code",
   "execution_count": 321,
   "id": "601d5078",
   "metadata": {},
   "outputs": [
    {
     "data": {
      "text/plain": [
       "<AxesSubplot:>"
      ]
     },
     "execution_count": 321,
     "metadata": {},
     "output_type": "execute_result"
    },
    {
     "data": {
      "image/png": "[encoded data removed]",
      "text/plain": [
       "<Figure size 720x504 with 1 Axes>"
      ]
     },
     "metadata": {
      "needs_background": "light"
     },
     "output_type": "display_data"
    }
   ],
   "source": [
    "raw['age'].value_counts().plot(kind='barh',figsize=(10,7))\n",
    "# now only truthful subjects are included"
   ]
  },
  {
   "cell_type": "code",
   "execution_count": 322,
   "id": "010c4f90",
   "metadata": {},
   "outputs": [],
   "source": [
    "raw = raw.drop('age', axis=1).drop('engnat', axis=1).drop('race', axis=1).drop('hand', axis=1).drop('source', axis=1)\n",
    "# droping these columns for now, but the country column might be relevant"
   ]
  },
  {
   "cell_type": "code",
   "execution_count": 323,
   "id": "6c266107",
   "metadata": {},
   "outputs": [
    {
     "data": {
      "text/html": [
       "<div>\n",
       "<style scoped>\n",
       "    .dataframe tbody tr th:only-of-type {\n",
       "        vertical-align: middle;\n",
       "    }\n",
       "\n",
       "    .dataframe tbody tr th {\n",
       "        vertical-align: top;\n",
       "    }\n",
       "\n",
       "    .dataframe thead th {\n",
       "        text-align: right;\n",
       "    }\n",
       "</style>\n",
       "<table border=\"1\" class=\"dataframe\">\n",
       "  <thead>\n",
       "    <tr style=\"text-align: right;\">\n",
       "      <th></th>\n",
       "      <th>gender</th>\n",
       "      <th>country</th>\n",
       "      <th>E1</th>\n",
       "      <th>E2</th>\n",
       "      <th>E3</th>\n",
       "      <th>E4</th>\n",
       "      <th>E5</th>\n",
       "      <th>E6</th>\n",
       "      <th>E7</th>\n",
       "      <th>E8</th>\n",
       "      <th>...</th>\n",
       "      <th>O1</th>\n",
       "      <th>O2</th>\n",
       "      <th>O3</th>\n",
       "      <th>O4</th>\n",
       "      <th>O5</th>\n",
       "      <th>O6</th>\n",
       "      <th>O7</th>\n",
       "      <th>O8</th>\n",
       "      <th>O9</th>\n",
       "      <th>O10</th>\n",
       "    </tr>\n",
       "  </thead>\n",
       "  <tbody>\n",
       "    <tr>\n",
       "      <th>0</th>\n",
       "      <td>1</td>\n",
       "      <td>US</td>\n",
       "      <td>4</td>\n",
       "      <td>2</td>\n",
       "      <td>5</td>\n",
       "      <td>2</td>\n",
       "      <td>5</td>\n",
       "      <td>1</td>\n",
       "      <td>4</td>\n",
       "      <td>3</td>\n",
       "      <td>...</td>\n",
       "      <td>4</td>\n",
       "      <td>1</td>\n",
       "      <td>3</td>\n",
       "      <td>1</td>\n",
       "      <td>5</td>\n",
       "      <td>1</td>\n",
       "      <td>4</td>\n",
       "      <td>2</td>\n",
       "      <td>5</td>\n",
       "      <td>5</td>\n",
       "    </tr>\n",
       "    <tr>\n",
       "      <th>1</th>\n",
       "      <td>2</td>\n",
       "      <td>US</td>\n",
       "      <td>2</td>\n",
       "      <td>2</td>\n",
       "      <td>3</td>\n",
       "      <td>3</td>\n",
       "      <td>3</td>\n",
       "      <td>3</td>\n",
       "      <td>1</td>\n",
       "      <td>5</td>\n",
       "      <td>...</td>\n",
       "      <td>3</td>\n",
       "      <td>3</td>\n",
       "      <td>3</td>\n",
       "      <td>3</td>\n",
       "      <td>2</td>\n",
       "      <td>3</td>\n",
       "      <td>3</td>\n",
       "      <td>1</td>\n",
       "      <td>3</td>\n",
       "      <td>2</td>\n",
       "    </tr>\n",
       "    <tr>\n",
       "      <th>3</th>\n",
       "      <td>2</td>\n",
       "      <td>RO</td>\n",
       "      <td>2</td>\n",
       "      <td>5</td>\n",
       "      <td>2</td>\n",
       "      <td>4</td>\n",
       "      <td>3</td>\n",
       "      <td>4</td>\n",
       "      <td>3</td>\n",
       "      <td>4</td>\n",
       "      <td>...</td>\n",
       "      <td>4</td>\n",
       "      <td>3</td>\n",
       "      <td>5</td>\n",
       "      <td>2</td>\n",
       "      <td>4</td>\n",
       "      <td>2</td>\n",
       "      <td>5</td>\n",
       "      <td>2</td>\n",
       "      <td>5</td>\n",
       "      <td>5</td>\n",
       "    </tr>\n",
       "    <tr>\n",
       "      <th>4</th>\n",
       "      <td>2</td>\n",
       "      <td>US</td>\n",
       "      <td>3</td>\n",
       "      <td>1</td>\n",
       "      <td>3</td>\n",
       "      <td>3</td>\n",
       "      <td>3</td>\n",
       "      <td>1</td>\n",
       "      <td>3</td>\n",
       "      <td>1</td>\n",
       "      <td>...</td>\n",
       "      <td>3</td>\n",
       "      <td>1</td>\n",
       "      <td>1</td>\n",
       "      <td>1</td>\n",
       "      <td>3</td>\n",
       "      <td>1</td>\n",
       "      <td>3</td>\n",
       "      <td>1</td>\n",
       "      <td>5</td>\n",
       "      <td>3</td>\n",
       "    </tr>\n",
       "    <tr>\n",
       "      <th>5</th>\n",
       "      <td>2</td>\n",
       "      <td>US</td>\n",
       "      <td>1</td>\n",
       "      <td>5</td>\n",
       "      <td>2</td>\n",
       "      <td>4</td>\n",
       "      <td>1</td>\n",
       "      <td>3</td>\n",
       "      <td>2</td>\n",
       "      <td>4</td>\n",
       "      <td>...</td>\n",
       "      <td>4</td>\n",
       "      <td>2</td>\n",
       "      <td>1</td>\n",
       "      <td>3</td>\n",
       "      <td>3</td>\n",
       "      <td>5</td>\n",
       "      <td>5</td>\n",
       "      <td>4</td>\n",
       "      <td>5</td>\n",
       "      <td>3</td>\n",
       "    </tr>\n",
       "  </tbody>\n",
       "</table>\n",
       "<p>5 rows × 52 columns</p>\n",
       "</div>"
      ],
      "text/plain": [
       "   gender country  E1  E2  E3  E4  E5  E6  E7  E8  ...  O1  O2  O3  O4  O5  \\\n",
       "0       1      US   4   2   5   2   5   1   4   3  ...   4   1   3   1   5   \n",
       "1       2      US   2   2   3   3   3   3   1   5  ...   3   3   3   3   2   \n",
       "3       2      RO   2   5   2   4   3   4   3   4  ...   4   3   5   2   4   \n",
       "4       2      US   3   1   3   3   3   1   3   1  ...   3   1   1   1   3   \n",
       "5       2      US   1   5   2   4   1   3   2   4  ...   4   2   1   3   3   \n",
       "\n",
       "   O6  O7  O8  O9  O10  \n",
       "0   1   4   2   5    5  \n",
       "1   3   3   1   3    2  \n",
       "3   2   5   2   5    5  \n",
       "4   1   3   1   5    3  \n",
       "5   5   5   4   5    3  \n",
       "\n",
       "[5 rows x 52 columns]"
      ]
     },
     "execution_count": 323,
     "metadata": {},
     "output_type": "execute_result"
    }
   ],
   "source": [
    "raw.head()"
   ]
  },
  {
   "cell_type": "code",
   "execution_count": 324,
   "id": "480ed206",
   "metadata": {},
   "outputs": [
    {
     "data": {
      "text/plain": [
       "country    10.0\n",
       "dtype: float64"
      ]
     },
     "execution_count": 324,
     "metadata": {},
     "output_type": "execute_result"
    }
   ],
   "source": [
    "countries = pd.DataFrame(raw['country'].value_counts())\n",
    "countries.median() # there are alot of countries with very few subjects"
   ]
  },
  {
   "cell_type": "code",
   "execution_count": 325,
   "id": "71df3b8a",
   "metadata": {},
   "outputs": [
    {
     "data": {
      "text/plain": [
       "country    1176.5\n",
       "dtype: float64"
      ]
     },
     "execution_count": 325,
     "metadata": {},
     "output_type": "execute_result"
    }
   ],
   "source": [
    "countries = countries.loc[countries['country'] >= 500]\n",
    "countries.median()"
   ]
  },
  {
   "cell_type": "code",
   "execution_count": 326,
   "id": "7e4cdf5b",
   "metadata": {},
   "outputs": [
    {
     "data": {
      "text/plain": [
       "6"
      ]
     },
     "execution_count": 326,
     "metadata": {},
     "output_type": "execute_result"
    }
   ],
   "source": [
    "len(countries) # so we're left with 6 countries"
   ]
  },
  {
   "cell_type": "code",
   "execution_count": 327,
   "id": "3f4f5b57",
   "metadata": {},
   "outputs": [],
   "source": [
    "raw = raw.loc[raw['country'].isin(countries.index)] # keep only those countries"
   ]
  },
  {
   "cell_type": "code",
   "execution_count": 328,
   "id": "b16f88b9",
   "metadata": {},
   "outputs": [
    {
     "data": {
      "text/plain": [
       "6"
      ]
     },
     "execution_count": 328,
     "metadata": {},
     "output_type": "execute_result"
    }
   ],
   "source": [
    "len(raw['country'].value_counts()) # seems like it worked!"
   ]
  },
  {
   "cell_type": "markdown",
   "id": "be0fee51",
   "metadata": {},
   "source": [
    "Now the problem is that most skl algorithms dont know how to use strings for their predictions. So, we will split\n",
    "the column 'country' into 6 columns of countries which will contain ones and zeros:\n",
    "one if the subject is from the column's name (country)\n",
    "or zero if not.\n",
    "in each row there sould be exactly one \"1\"."
   ]
  },
  {
   "cell_type": "code",
   "execution_count": 329,
   "id": "a5a495b8",
   "metadata": {},
   "outputs": [
    {
     "data": {
      "text/html": [
       "<div>\n",
       "<style scoped>\n",
       "    .dataframe tbody tr th:only-of-type {\n",
       "        vertical-align: middle;\n",
       "    }\n",
       "\n",
       "    .dataframe tbody tr th {\n",
       "        vertical-align: top;\n",
       "    }\n",
       "\n",
       "    .dataframe thead th {\n",
       "        text-align: right;\n",
       "    }\n",
       "</style>\n",
       "<table border=\"1\" class=\"dataframe\">\n",
       "  <thead>\n",
       "    <tr style=\"text-align: right;\">\n",
       "      <th></th>\n",
       "      <th>AU</th>\n",
       "      <th>CA</th>\n",
       "      <th>GB</th>\n",
       "      <th>IN</th>\n",
       "      <th>PH</th>\n",
       "      <th>US</th>\n",
       "    </tr>\n",
       "  </thead>\n",
       "  <tbody>\n",
       "    <tr>\n",
       "      <th>0</th>\n",
       "      <td>0</td>\n",
       "      <td>0</td>\n",
       "      <td>0</td>\n",
       "      <td>0</td>\n",
       "      <td>0</td>\n",
       "      <td>1</td>\n",
       "    </tr>\n",
       "    <tr>\n",
       "      <th>1</th>\n",
       "      <td>0</td>\n",
       "      <td>0</td>\n",
       "      <td>0</td>\n",
       "      <td>0</td>\n",
       "      <td>0</td>\n",
       "      <td>1</td>\n",
       "    </tr>\n",
       "    <tr>\n",
       "      <th>4</th>\n",
       "      <td>0</td>\n",
       "      <td>0</td>\n",
       "      <td>0</td>\n",
       "      <td>0</td>\n",
       "      <td>0</td>\n",
       "      <td>1</td>\n",
       "    </tr>\n",
       "    <tr>\n",
       "      <th>5</th>\n",
       "      <td>0</td>\n",
       "      <td>0</td>\n",
       "      <td>0</td>\n",
       "      <td>0</td>\n",
       "      <td>0</td>\n",
       "      <td>1</td>\n",
       "    </tr>\n",
       "    <tr>\n",
       "      <th>6</th>\n",
       "      <td>0</td>\n",
       "      <td>0</td>\n",
       "      <td>0</td>\n",
       "      <td>0</td>\n",
       "      <td>0</td>\n",
       "      <td>1</td>\n",
       "    </tr>\n",
       "    <tr>\n",
       "      <th>...</th>\n",
       "      <td>...</td>\n",
       "      <td>...</td>\n",
       "      <td>...</td>\n",
       "      <td>...</td>\n",
       "      <td>...</td>\n",
       "      <td>...</td>\n",
       "    </tr>\n",
       "    <tr>\n",
       "      <th>19712</th>\n",
       "      <td>0</td>\n",
       "      <td>0</td>\n",
       "      <td>0</td>\n",
       "      <td>0</td>\n",
       "      <td>0</td>\n",
       "      <td>1</td>\n",
       "    </tr>\n",
       "    <tr>\n",
       "      <th>19713</th>\n",
       "      <td>0</td>\n",
       "      <td>0</td>\n",
       "      <td>0</td>\n",
       "      <td>0</td>\n",
       "      <td>0</td>\n",
       "      <td>1</td>\n",
       "    </tr>\n",
       "    <tr>\n",
       "      <th>19715</th>\n",
       "      <td>0</td>\n",
       "      <td>0</td>\n",
       "      <td>0</td>\n",
       "      <td>0</td>\n",
       "      <td>0</td>\n",
       "      <td>1</td>\n",
       "    </tr>\n",
       "    <tr>\n",
       "      <th>19716</th>\n",
       "      <td>0</td>\n",
       "      <td>0</td>\n",
       "      <td>0</td>\n",
       "      <td>0</td>\n",
       "      <td>0</td>\n",
       "      <td>1</td>\n",
       "    </tr>\n",
       "    <tr>\n",
       "      <th>19718</th>\n",
       "      <td>0</td>\n",
       "      <td>0</td>\n",
       "      <td>0</td>\n",
       "      <td>0</td>\n",
       "      <td>0</td>\n",
       "      <td>1</td>\n",
       "    </tr>\n",
       "  </tbody>\n",
       "</table>\n",
       "<p>13686 rows × 6 columns</p>\n",
       "</div>"
      ],
      "text/plain": [
       "       AU  CA  GB  IN  PH  US\n",
       "0       0   0   0   0   0   1\n",
       "1       0   0   0   0   0   1\n",
       "4       0   0   0   0   0   1\n",
       "5       0   0   0   0   0   1\n",
       "6       0   0   0   0   0   1\n",
       "...    ..  ..  ..  ..  ..  ..\n",
       "19712   0   0   0   0   0   1\n",
       "19713   0   0   0   0   0   1\n",
       "19715   0   0   0   0   0   1\n",
       "19716   0   0   0   0   0   1\n",
       "19718   0   0   0   0   0   1\n",
       "\n",
       "[13686 rows x 6 columns]"
      ]
     },
     "execution_count": 329,
     "metadata": {},
     "output_type": "execute_result"
    }
   ],
   "source": [
    "raw['country'].str.get_dummies() # most of the subjects are from the US"
   ]
  },
  {
   "cell_type": "code",
   "execution_count": 330,
   "id": "8f2d5aa7",
   "metadata": {},
   "outputs": [],
   "source": [
    "n_data = raw.join(raw['country'].str.get_dummies(), how='right') # combining the two data frames into a n_data"
   ]
  },
  {
   "cell_type": "code",
   "execution_count": 331,
   "id": "f9993150",
   "metadata": {},
   "outputs": [
    {
     "data": {
      "text/html": [
       "<div>\n",
       "<style scoped>\n",
       "    .dataframe tbody tr th:only-of-type {\n",
       "        vertical-align: middle;\n",
       "    }\n",
       "\n",
       "    .dataframe tbody tr th {\n",
       "        vertical-align: top;\n",
       "    }\n",
       "\n",
       "    .dataframe thead th {\n",
       "        text-align: right;\n",
       "    }\n",
       "</style>\n",
       "<table border=\"1\" class=\"dataframe\">\n",
       "  <thead>\n",
       "    <tr style=\"text-align: right;\">\n",
       "      <th></th>\n",
       "      <th>gender</th>\n",
       "      <th>country</th>\n",
       "      <th>E1</th>\n",
       "      <th>E2</th>\n",
       "      <th>E3</th>\n",
       "      <th>E4</th>\n",
       "      <th>E5</th>\n",
       "      <th>E6</th>\n",
       "      <th>E7</th>\n",
       "      <th>E8</th>\n",
       "      <th>...</th>\n",
       "      <th>O7</th>\n",
       "      <th>O8</th>\n",
       "      <th>O9</th>\n",
       "      <th>O10</th>\n",
       "      <th>AU</th>\n",
       "      <th>CA</th>\n",
       "      <th>GB</th>\n",
       "      <th>IN</th>\n",
       "      <th>PH</th>\n",
       "      <th>US</th>\n",
       "    </tr>\n",
       "  </thead>\n",
       "  <tbody>\n",
       "    <tr>\n",
       "      <th>0</th>\n",
       "      <td>1</td>\n",
       "      <td>US</td>\n",
       "      <td>4</td>\n",
       "      <td>2</td>\n",
       "      <td>5</td>\n",
       "      <td>2</td>\n",
       "      <td>5</td>\n",
       "      <td>1</td>\n",
       "      <td>4</td>\n",
       "      <td>3</td>\n",
       "      <td>...</td>\n",
       "      <td>4</td>\n",
       "      <td>2</td>\n",
       "      <td>5</td>\n",
       "      <td>5</td>\n",
       "      <td>0</td>\n",
       "      <td>0</td>\n",
       "      <td>0</td>\n",
       "      <td>0</td>\n",
       "      <td>0</td>\n",
       "      <td>1</td>\n",
       "    </tr>\n",
       "    <tr>\n",
       "      <th>1</th>\n",
       "      <td>2</td>\n",
       "      <td>US</td>\n",
       "      <td>2</td>\n",
       "      <td>2</td>\n",
       "      <td>3</td>\n",
       "      <td>3</td>\n",
       "      <td>3</td>\n",
       "      <td>3</td>\n",
       "      <td>1</td>\n",
       "      <td>5</td>\n",
       "      <td>...</td>\n",
       "      <td>3</td>\n",
       "      <td>1</td>\n",
       "      <td>3</td>\n",
       "      <td>2</td>\n",
       "      <td>0</td>\n",
       "      <td>0</td>\n",
       "      <td>0</td>\n",
       "      <td>0</td>\n",
       "      <td>0</td>\n",
       "      <td>1</td>\n",
       "    </tr>\n",
       "    <tr>\n",
       "      <th>4</th>\n",
       "      <td>2</td>\n",
       "      <td>US</td>\n",
       "      <td>3</td>\n",
       "      <td>1</td>\n",
       "      <td>3</td>\n",
       "      <td>3</td>\n",
       "      <td>3</td>\n",
       "      <td>1</td>\n",
       "      <td>3</td>\n",
       "      <td>1</td>\n",
       "      <td>...</td>\n",
       "      <td>3</td>\n",
       "      <td>1</td>\n",
       "      <td>5</td>\n",
       "      <td>3</td>\n",
       "      <td>0</td>\n",
       "      <td>0</td>\n",
       "      <td>0</td>\n",
       "      <td>0</td>\n",
       "      <td>0</td>\n",
       "      <td>1</td>\n",
       "    </tr>\n",
       "    <tr>\n",
       "      <th>5</th>\n",
       "      <td>2</td>\n",
       "      <td>US</td>\n",
       "      <td>1</td>\n",
       "      <td>5</td>\n",
       "      <td>2</td>\n",
       "      <td>4</td>\n",
       "      <td>1</td>\n",
       "      <td>3</td>\n",
       "      <td>2</td>\n",
       "      <td>4</td>\n",
       "      <td>...</td>\n",
       "      <td>5</td>\n",
       "      <td>4</td>\n",
       "      <td>5</td>\n",
       "      <td>3</td>\n",
       "      <td>0</td>\n",
       "      <td>0</td>\n",
       "      <td>0</td>\n",
       "      <td>0</td>\n",
       "      <td>0</td>\n",
       "      <td>1</td>\n",
       "    </tr>\n",
       "    <tr>\n",
       "      <th>6</th>\n",
       "      <td>2</td>\n",
       "      <td>US</td>\n",
       "      <td>5</td>\n",
       "      <td>1</td>\n",
       "      <td>5</td>\n",
       "      <td>1</td>\n",
       "      <td>5</td>\n",
       "      <td>1</td>\n",
       "      <td>5</td>\n",
       "      <td>4</td>\n",
       "      <td>...</td>\n",
       "      <td>4</td>\n",
       "      <td>3</td>\n",
       "      <td>3</td>\n",
       "      <td>4</td>\n",
       "      <td>0</td>\n",
       "      <td>0</td>\n",
       "      <td>0</td>\n",
       "      <td>0</td>\n",
       "      <td>0</td>\n",
       "      <td>1</td>\n",
       "    </tr>\n",
       "  </tbody>\n",
       "</table>\n",
       "<p>5 rows × 58 columns</p>\n",
       "</div>"
      ],
      "text/plain": [
       "   gender country  E1  E2  E3  E4  E5  E6  E7  E8  ...  O7  O8  O9  O10  AU  \\\n",
       "0       1      US   4   2   5   2   5   1   4   3  ...   4   2   5    5   0   \n",
       "1       2      US   2   2   3   3   3   3   1   5  ...   3   1   3    2   0   \n",
       "4       2      US   3   1   3   3   3   1   3   1  ...   3   1   5    3   0   \n",
       "5       2      US   1   5   2   4   1   3   2   4  ...   5   4   5    3   0   \n",
       "6       2      US   5   1   5   1   5   1   5   4  ...   4   3   3    4   0   \n",
       "\n",
       "   CA  GB  IN  PH  US  \n",
       "0   0   0   0   0   1  \n",
       "1   0   0   0   0   1  \n",
       "4   0   0   0   0   1  \n",
       "5   0   0   0   0   1  \n",
       "6   0   0   0   0   1  \n",
       "\n",
       "[5 rows x 58 columns]"
      ]
     },
     "execution_count": 331,
     "metadata": {},
     "output_type": "execute_result"
    }
   ],
   "source": [
    "n_data.head()"
   ]
  },
  {
   "cell_type": "code",
   "execution_count": 332,
   "id": "881b0410",
   "metadata": {},
   "outputs": [],
   "source": [
    "n_data = n_data.drop('country', axis=1) # we ahve no use for the 'country' column now"
   ]
  },
  {
   "cell_type": "code",
   "execution_count": 333,
   "id": "ac9313c8",
   "metadata": {},
   "outputs": [
    {
     "data": {
      "text/plain": [
       "<AxesSubplot:>"
      ]
     },
     "execution_count": 333,
     "metadata": {},
     "output_type": "execute_result"
    },
    {
     "data": {
      "image/png": "[encoded data removed]",
      "text/plain": [
       "<Figure size 576x432 with 2 Axes>"
      ]
     },
     "metadata": {
      "needs_background": "light"
     },
     "output_type": "display_data"
    }
   ],
   "source": [
    "ax = plt.subplots(figsize=(8,6)) \n",
    "sns.heatmap(n_data.iloc[:, 0:51].corr(), cmap='jet_r')\n",
    "# each personality trait is heavily corellated to itself, but not to other traits as expect. \n",
    "# this means that the data is valid and was indeed filled out by humans"
   ]
  },
  {
   "cell_type": "markdown",
   "id": "2872cd03",
   "metadata": {},
   "source": [
    "Now we will change the 'gender' column to a binary form"
   ]
  },
  {
   "cell_type": "code",
   "execution_count": 334,
   "id": "f2b01ed0",
   "metadata": {},
   "outputs": [],
   "source": [
    "n_data['gender'] = n_data['gender'] - 1 # now 1 is female and 0 is male"
   ]
  },
  {
   "cell_type": "code",
   "execution_count": 335,
   "id": "de1c2efa",
   "metadata": {},
   "outputs": [
    {
     "data": {
      "text/plain": [
       " 1    8543\n",
       " 0    5057\n",
       " 2      68\n",
       "-1      18\n",
       "Name: gender, dtype: int64"
      ]
     },
     "execution_count": 335,
     "metadata": {},
     "output_type": "execute_result"
    }
   ],
   "source": [
    "n_data['gender'].value_counts()"
   ]
  },
  {
   "cell_type": "code",
   "execution_count": 336,
   "id": "4c3663ad",
   "metadata": {},
   "outputs": [],
   "source": [
    "n_data = n_data.loc[n_data['gender']!=2] # 3 was \"other\", sorry "
   ]
  },
  {
   "cell_type": "code",
   "execution_count": 337,
   "id": "c3addee3",
   "metadata": {},
   "outputs": [],
   "source": [
    "n_data = n_data.loc[n_data['gender']!=-1] # 0 was \"rather not say\""
   ]
  },
  {
   "cell_type": "code",
   "execution_count": 338,
   "id": "cecfa633",
   "metadata": {},
   "outputs": [
    {
     "data": {
      "text/plain": [
       "1    8543\n",
       "0    5057\n",
       "Name: gender, dtype: int64"
      ]
     },
     "execution_count": 338,
     "metadata": {},
     "output_type": "execute_result"
    }
   ],
   "source": [
    "n_data['gender'].value_counts() # now it's binary"
   ]
  },
  {
   "cell_type": "code",
   "execution_count": 339,
   "id": "fcedb215",
   "metadata": {},
   "outputs": [
    {
     "data": {
      "text/html": [
       "<div>\n",
       "<style scoped>\n",
       "    .dataframe tbody tr th:only-of-type {\n",
       "        vertical-align: middle;\n",
       "    }\n",
       "\n",
       "    .dataframe tbody tr th {\n",
       "        vertical-align: top;\n",
       "    }\n",
       "\n",
       "    .dataframe thead th {\n",
       "        text-align: right;\n",
       "    }\n",
       "</style>\n",
       "<table border=\"1\" class=\"dataframe\">\n",
       "  <thead>\n",
       "    <tr style=\"text-align: right;\">\n",
       "      <th></th>\n",
       "      <th>gender</th>\n",
       "      <th>E1</th>\n",
       "      <th>E2</th>\n",
       "      <th>E3</th>\n",
       "      <th>E4</th>\n",
       "      <th>E5</th>\n",
       "      <th>E6</th>\n",
       "      <th>E7</th>\n",
       "      <th>E8</th>\n",
       "      <th>E9</th>\n",
       "      <th>...</th>\n",
       "      <th>O7</th>\n",
       "      <th>O8</th>\n",
       "      <th>O9</th>\n",
       "      <th>O10</th>\n",
       "      <th>AU</th>\n",
       "      <th>CA</th>\n",
       "      <th>GB</th>\n",
       "      <th>IN</th>\n",
       "      <th>PH</th>\n",
       "      <th>US</th>\n",
       "    </tr>\n",
       "  </thead>\n",
       "  <tbody>\n",
       "    <tr>\n",
       "      <th>0</th>\n",
       "      <td>0</td>\n",
       "      <td>4</td>\n",
       "      <td>2</td>\n",
       "      <td>5</td>\n",
       "      <td>2</td>\n",
       "      <td>5</td>\n",
       "      <td>1</td>\n",
       "      <td>4</td>\n",
       "      <td>3</td>\n",
       "      <td>5</td>\n",
       "      <td>...</td>\n",
       "      <td>4</td>\n",
       "      <td>2</td>\n",
       "      <td>5</td>\n",
       "      <td>5</td>\n",
       "      <td>0</td>\n",
       "      <td>0</td>\n",
       "      <td>0</td>\n",
       "      <td>0</td>\n",
       "      <td>0</td>\n",
       "      <td>1</td>\n",
       "    </tr>\n",
       "    <tr>\n",
       "      <th>1</th>\n",
       "      <td>1</td>\n",
       "      <td>2</td>\n",
       "      <td>2</td>\n",
       "      <td>3</td>\n",
       "      <td>3</td>\n",
       "      <td>3</td>\n",
       "      <td>3</td>\n",
       "      <td>1</td>\n",
       "      <td>5</td>\n",
       "      <td>1</td>\n",
       "      <td>...</td>\n",
       "      <td>3</td>\n",
       "      <td>1</td>\n",
       "      <td>3</td>\n",
       "      <td>2</td>\n",
       "      <td>0</td>\n",
       "      <td>0</td>\n",
       "      <td>0</td>\n",
       "      <td>0</td>\n",
       "      <td>0</td>\n",
       "      <td>1</td>\n",
       "    </tr>\n",
       "    <tr>\n",
       "      <th>4</th>\n",
       "      <td>1</td>\n",
       "      <td>3</td>\n",
       "      <td>1</td>\n",
       "      <td>3</td>\n",
       "      <td>3</td>\n",
       "      <td>3</td>\n",
       "      <td>1</td>\n",
       "      <td>3</td>\n",
       "      <td>1</td>\n",
       "      <td>3</td>\n",
       "      <td>...</td>\n",
       "      <td>3</td>\n",
       "      <td>1</td>\n",
       "      <td>5</td>\n",
       "      <td>3</td>\n",
       "      <td>0</td>\n",
       "      <td>0</td>\n",
       "      <td>0</td>\n",
       "      <td>0</td>\n",
       "      <td>0</td>\n",
       "      <td>1</td>\n",
       "    </tr>\n",
       "    <tr>\n",
       "      <th>5</th>\n",
       "      <td>1</td>\n",
       "      <td>1</td>\n",
       "      <td>5</td>\n",
       "      <td>2</td>\n",
       "      <td>4</td>\n",
       "      <td>1</td>\n",
       "      <td>3</td>\n",
       "      <td>2</td>\n",
       "      <td>4</td>\n",
       "      <td>1</td>\n",
       "      <td>...</td>\n",
       "      <td>5</td>\n",
       "      <td>4</td>\n",
       "      <td>5</td>\n",
       "      <td>3</td>\n",
       "      <td>0</td>\n",
       "      <td>0</td>\n",
       "      <td>0</td>\n",
       "      <td>0</td>\n",
       "      <td>0</td>\n",
       "      <td>1</td>\n",
       "    </tr>\n",
       "    <tr>\n",
       "      <th>6</th>\n",
       "      <td>1</td>\n",
       "      <td>5</td>\n",
       "      <td>1</td>\n",
       "      <td>5</td>\n",
       "      <td>1</td>\n",
       "      <td>5</td>\n",
       "      <td>1</td>\n",
       "      <td>5</td>\n",
       "      <td>4</td>\n",
       "      <td>4</td>\n",
       "      <td>...</td>\n",
       "      <td>4</td>\n",
       "      <td>3</td>\n",
       "      <td>3</td>\n",
       "      <td>4</td>\n",
       "      <td>0</td>\n",
       "      <td>0</td>\n",
       "      <td>0</td>\n",
       "      <td>0</td>\n",
       "      <td>0</td>\n",
       "      <td>1</td>\n",
       "    </tr>\n",
       "  </tbody>\n",
       "</table>\n",
       "<p>5 rows × 57 columns</p>\n",
       "</div>"
      ],
      "text/plain": [
       "   gender  E1  E2  E3  E4  E5  E6  E7  E8  E9  ...  O7  O8  O9  O10  AU  CA  \\\n",
       "0       0   4   2   5   2   5   1   4   3   5  ...   4   2   5    5   0   0   \n",
       "1       1   2   2   3   3   3   3   1   5   1  ...   3   1   3    2   0   0   \n",
       "4       1   3   1   3   3   3   1   3   1   3  ...   3   1   5    3   0   0   \n",
       "5       1   1   5   2   4   1   3   2   4   1  ...   5   4   5    3   0   0   \n",
       "6       1   5   1   5   1   5   1   5   4   4  ...   4   3   3    4   0   0   \n",
       "\n",
       "   GB  IN  PH  US  \n",
       "0   0   0   0   1  \n",
       "1   0   0   0   1  \n",
       "4   0   0   0   1  \n",
       "5   0   0   0   1  \n",
       "6   0   0   0   1  \n",
       "\n",
       "[5 rows x 57 columns]"
      ]
     },
     "execution_count": 339,
     "metadata": {},
     "output_type": "execute_result"
    }
   ],
   "source": [
    "n_data.head(5)"
   ]
  },
  {
   "cell_type": "code",
   "execution_count": 340,
   "id": "402f31cd",
   "metadata": {},
   "outputs": [],
   "source": [
    "from sklearn.utils import shuffle"
   ]
  },
  {
   "cell_type": "code",
   "execution_count": 341,
   "id": "c60a3571",
   "metadata": {},
   "outputs": [],
   "source": [
    "from sklearn import linear_model\n",
    "from sklearn.model_selection import cross_val_score"
   ]
  },
  {
   "cell_type": "code",
   "execution_count": 292,
   "id": "16b5f9b7",
   "metadata": {},
   "outputs": [],
   "source": [
    "mal = n_data.loc[n_data['gender']==0]\n",
    "fem = n_data.loc[n_data['gender']==1][:len(mal)]\n",
    "n_data = shuffle(mal.append(fem))\n",
    "# we want the female to male ratio to be the same as in the general population"
   ]
  },
  {
   "cell_type": "code",
   "execution_count": 293,
   "id": "9cb1ca23",
   "metadata": {},
   "outputs": [],
   "source": [
    "to = 2000\n",
    "train = n_data[:to]\n",
    "test = n_data[to:]"
   ]
  },
  {
   "cell_type": "code",
   "execution_count": 294,
   "id": "f8253906",
   "metadata": {},
   "outputs": [],
   "source": [
    "trainx = train.drop('gender',axis=1)\n",
    "trainy = train['gender']"
   ]
  },
  {
   "cell_type": "code",
   "execution_count": 271,
   "id": "eb8d3b15",
   "metadata": {},
   "outputs": [],
   "source": [
    "import sklearn.naive_bayes\n",
    "from sklearn.naive_bayes import BernoulliNB\n",
    "# best we got is 0.64 accuracy for 0.65 male to female ratio - not good\n"
   ]
  },
  {
   "cell_type": "code",
   "execution_count": 272,
   "id": "c8d07b69",
   "metadata": {},
   "outputs": [],
   "source": [
    "from sklearn import linear_model\n",
    "from sklearn.tree import DecisionTreeClassifier\n",
    "from sklearn.neighbors import KNeighborsClassifier\n",
    "from sklearn.metrics import f1_score"
   ]
  },
  {
   "cell_type": "code",
   "execution_count": 273,
   "id": "4c6eb1cf",
   "metadata": {},
   "outputs": [],
   "source": [
    "reg = linear_model.LogisticRegression() "
   ]
  },
  {
   "cell_type": "code",
   "execution_count": 278,
   "id": "4dcdbec3",
   "metadata": {},
   "outputs": [],
   "source": [
    "reg = linear_model.LinearRegression() \n",
    "# Not suitable for classifying"
   ]
  },
  {
   "cell_type": "code",
   "execution_count": 276,
   "id": "9d70bd53",
   "metadata": {},
   "outputs": [],
   "source": [
    "reg = KNeighborsClassifier(n_neighbors=40) "
   ]
  },
  {
   "cell_type": "code",
   "execution_count": 296,
   "id": "1e68b213",
   "metadata": {},
   "outputs": [],
   "source": [
    "reg = linear_model.RidgeClassifierCV(alphas=2.4)#(0.1, 1.0,3,6,7,8,9, 10.0)) # best so far - we got a 0.75 f1 score"
   ]
  },
  {
   "cell_type": "code",
   "execution_count": 281,
   "id": "07faff42",
   "metadata": {
    "scrolled": false
   },
   "outputs": [
    {
     "data": {
      "text/plain": [
       "0.5781492295511526"
      ]
     },
     "execution_count": 281,
     "metadata": {},
     "output_type": "execute_result"
    }
   ],
   "source": [
    "scrs = [] \n",
    "n_to = int(to/3)\n",
    "tms = 100\n",
    "for i in range(tms):\n",
    "    train = shuffle(train) # shuffling the train DF\n",
    "    trainx = train.drop('gender',axis=1)\n",
    "    trainy = train['gender']\n",
    "    reg.fit(trainx[:n_to],trainy[:n_to])\n",
    "    output = reg.predict(trainx[n_to:])\n",
    "    scrs.append(sklearn.metrics.f1_score(trainy[n_to:], output)) # adding the f1 score to the list\n",
    "sum(scrs)/tms "
   ]
  },
  {
   "cell_type": "code",
   "execution_count": 298,
   "id": "fe43ad54",
   "metadata": {},
   "outputs": [
    {
     "name": "stdout",
     "output_type": "stream",
     "text": [
      "Accuracy avg:  0.65878\n",
      "Female percentage:  0.496\n",
      "Difference:  0.16278000000000004\n"
     ]
    }
   ],
   "source": [
    "scrs = []\n",
    "g_rate = [] # this will later tell us what the female to male ratio was when the prediction took place\n",
    "tms = 50\n",
    "for i in range(tms):\n",
    "    train = shuffle(train)\n",
    "    trainx = train.drop('gender',axis=1)\n",
    "    trainy = train['gender']\n",
    "    scrs.append(cross_val_score(reg, trainx, trainy, cv=5).mean())\n",
    "print('Accuracy avg: ', sum(scrs) / len(scrs))\n",
    "print('Female percentage: ', len(train.loc[train['gender'] == 1]) / 2000)\n",
    "dif = abs((sum(scrs) / len(scrs))- (len(train.loc[train['gender'] == 1]) / 2000))\n",
    "print('Difference: ',dif)\n",
    "df_ovr_mlp = dif / (1-(len(train.loc[train['gender'] == 1]) / 2000))\n",
    "\n",
    "# this shows us the difference between the avg of the accuracy and the avg of the female to male ratio in those tests\n",
    "# this tells us how much accuracy the model is responsible for"
   ]
  },
  {
   "cell_type": "code",
   "execution_count": 41,
   "id": "51678c32",
   "metadata": {},
   "outputs": [],
   "source": [
    "from matplotlib import pyplot as plt\n",
    "import seaborn as sns"
   ]
  },
  {
   "cell_type": "code",
   "execution_count": 307,
   "id": "c2c6c507",
   "metadata": {},
   "outputs": [],
   "source": [
    "mal = n_data.loc[n_data['gender']==0]\n",
    "fem = n_data.loc[n_data['gender']==1][:len(mal)]\n",
    "plot_d = fem.append(mal) \n",
    "# making new DataFrame that has a 1:1 femal to male ratio so the info we get will not be bias"
   ]
  },
  {
   "cell_type": "code",
   "execution_count": 308,
   "id": "70b0365d",
   "metadata": {},
   "outputs": [],
   "source": [
    "len(fem)\n",
    "plot_d = shuffle(plot_d)\n",
    "train=plot_d[:to]"
   ]
  },
  {
   "cell_type": "code",
   "execution_count": 309,
   "id": "d69f81bd",
   "metadata": {
    "scrolled": true
   },
   "outputs": [
    {
     "data": {
      "text/plain": [
       "5057"
      ]
     },
     "execution_count": 309,
     "metadata": {},
     "output_type": "execute_result"
    }
   ],
   "source": [
    "len(mal)"
   ]
  },
  {
   "cell_type": "markdown",
   "id": "daaada3a",
   "metadata": {},
   "source": [
    "Now we're looking for information to see which question should get more or less weight"
   ]
  },
  {
   "cell_type": "code",
   "execution_count": 310,
   "id": "8e3a8750",
   "metadata": {},
   "outputs": [],
   "source": [
    "chrs = {'O','C','E','A','N'}\n",
    "qs = []\n",
    "diff = []\n",
    "for c in chrs:\n",
    "    #print(c+' : ')\n",
    "    for i in range(10):\n",
    "        s = c+str(i+1)\n",
    "        qs.append(s)\n",
    "        diff.append((plot_d.loc[plot_d['gender']==0][s].mean()-plot_d.loc[plot_d['gender']==1][s].mean()))"
   ]
  },
  {
   "cell_type": "code",
   "execution_count": 313,
   "id": "77421a67",
   "metadata": {
    "scrolled": false
   },
   "outputs": [
    {
     "data": {
      "text/plain": [
       "<AxesSubplot:title={'center':'Differences in Answers'}>"
      ]
     },
     "execution_count": 313,
     "metadata": {},
     "output_type": "execute_result"
    },
    {
     "data": {
      "image/png": "[encoded data removed]",
      "text/plain": [
       "<Figure size 576x360 with 1 Axes>"
      ]
     },
     "metadata": {
      "needs_background": "light"
     },
     "output_type": "display_data"
    }
   ],
   "source": [
    "pd.DataFrame(diff,qs).sort_values(by=0,ascending=False).plot(kind='bar',figsize=(8,5),legend=False, title='Differences in Answers')\n",
    "#Some questions are more important than others. Let's use that:"
   ]
  },
  {
   "cell_type": "code",
   "execution_count": 48,
   "id": "1450af15",
   "metadata": {},
   "outputs": [],
   "source": [
    "#for i in range(len(diff)):\n",
    "#    if diff[i] < 0.05:\n",
    "#        n_data = n_data.drop(qs[i], axis=1)"
   ]
  },
  {
   "cell_type": "code",
   "execution_count": 49,
   "id": "0f570635",
   "metadata": {
    "scrolled": true
   },
   "outputs": [
    {
     "data": {
      "text/plain": [
       "<AxesSubplot:>"
      ]
     },
     "execution_count": 49,
     "metadata": {},
     "output_type": "execute_result"
    },
    {
     "data": {
      "image/png": "[encoded data removed]",
      "text/plain": [
       "<Figure size 576x432 with 2 Axes>"
      ]
     },
     "metadata": {
      "needs_background": "light"
     },
     "output_type": "display_data"
    }
   ],
   "source": [
    "ax = plt.subplots(figsize=(8,6)) \n",
    "sns.heatmap(n_data.iloc[:, 0:51].corr(), cmap='jet_r')\n",
    "# each personality trait is heavily corellated to itself, but not to other traits as expect. \n",
    "# this means that the data is valid"
   ]
  },
  {
   "cell_type": "code",
   "execution_count": 50,
   "id": "c05b267f",
   "metadata": {
    "scrolled": false
   },
   "outputs": [],
   "source": [
    "#n_data.corr()#['gender'].sort_values() # another way of seeing which questions are more coorelated with gender "
   ]
  },
  {
   "cell_type": "code",
   "execution_count": 181,
   "id": "32f7b0da",
   "metadata": {},
   "outputs": [],
   "source": [
    "from numpy import arange"
   ]
  },
  {
   "cell_type": "code",
   "execution_count": 74,
   "id": "5a5bb2c8",
   "metadata": {},
   "outputs": [],
   "source": [
    "params = {\n",
    "    'fit_intercept': [True, False],\n",
    "    'normalize': [True, False],\n",
    "    'copy_X': [True, False]    \n",
    "}\n",
    "from sklearn.model_selection import GridSearchCV"
   ]
  },
  {
   "cell_type": "code",
   "execution_count": 198,
   "id": "b52f89c0",
   "metadata": {},
   "outputs": [],
   "source": [
    "search = GridSearchCV(estimator = reg, param_grid=params, scoring='accuracy')"
   ]
  },
  {
   "cell_type": "code",
   "execution_count": 191,
   "id": "dfb48c55",
   "metadata": {},
   "outputs": [],
   "source": [
    "params = dict()\n",
    "params['alphas'] = arange(0.1, 10, 0.1)"
   ]
  },
  {
   "cell_type": "code",
   "execution_count": 204,
   "id": "9e6e5df8",
   "metadata": {},
   "outputs": [
    {
     "ename": "RuntimeError",
     "evalue": "Cannot clone object RidgeClassifierCV(alphas=2.4000000000000004), as the constructor either does not set or modifies parameter alphas",
     "output_type": "error",
     "traceback": [
      "\u001b[1;31m---------------------------------------------------------------------------\u001b[0m",
      "\u001b[1;31mRuntimeError\u001b[0m                              Traceback (most recent call last)",
      "\u001b[1;32m<ipython-input-204-ea0c432416fb>\u001b[0m in \u001b[0;36m<module>\u001b[1;34m\u001b[0m\n\u001b[1;32m----> 1\u001b[1;33m \u001b[0msearch\u001b[0m\u001b[1;33m.\u001b[0m\u001b[0mfit\u001b[0m\u001b[1;33m(\u001b[0m\u001b[0mtrainx\u001b[0m\u001b[1;33m,\u001b[0m \u001b[0mtrainy\u001b[0m\u001b[1;33m)\u001b[0m\u001b[1;33m.\u001b[0m\u001b[0mbest_params_\u001b[0m\u001b[1;33m\u001b[0m\u001b[1;33m\u001b[0m\u001b[0m\n\u001b[0m",
      "\u001b[1;32m~\\anaconda3\\lib\\site-packages\\sklearn\\utils\\validation.py\u001b[0m in \u001b[0;36minner_f\u001b[1;34m(*args, **kwargs)\u001b[0m\n\u001b[0;32m     61\u001b[0m             \u001b[0mextra_args\u001b[0m \u001b[1;33m=\u001b[0m \u001b[0mlen\u001b[0m\u001b[1;33m(\u001b[0m\u001b[0margs\u001b[0m\u001b[1;33m)\u001b[0m \u001b[1;33m-\u001b[0m \u001b[0mlen\u001b[0m\u001b[1;33m(\u001b[0m\u001b[0mall_args\u001b[0m\u001b[1;33m)\u001b[0m\u001b[1;33m\u001b[0m\u001b[1;33m\u001b[0m\u001b[0m\n\u001b[0;32m     62\u001b[0m             \u001b[1;32mif\u001b[0m \u001b[0mextra_args\u001b[0m \u001b[1;33m<=\u001b[0m \u001b[1;36m0\u001b[0m\u001b[1;33m:\u001b[0m\u001b[1;33m\u001b[0m\u001b[1;33m\u001b[0m\u001b[0m\n\u001b[1;32m---> 63\u001b[1;33m                 \u001b[1;32mreturn\u001b[0m \u001b[0mf\u001b[0m\u001b[1;33m(\u001b[0m\u001b[1;33m*\u001b[0m\u001b[0margs\u001b[0m\u001b[1;33m,\u001b[0m \u001b[1;33m**\u001b[0m\u001b[0mkwargs\u001b[0m\u001b[1;33m)\u001b[0m\u001b[1;33m\u001b[0m\u001b[1;33m\u001b[0m\u001b[0m\n\u001b[0m\u001b[0;32m     64\u001b[0m \u001b[1;33m\u001b[0m\u001b[0m\n\u001b[0;32m     65\u001b[0m             \u001b[1;31m# extra_args > 0\u001b[0m\u001b[1;33m\u001b[0m\u001b[1;33m\u001b[0m\u001b[1;33m\u001b[0m\u001b[0m\n",
      "\u001b[1;32m~\\anaconda3\\lib\\site-packages\\sklearn\\model_selection\\_search.py\u001b[0m in \u001b[0;36mfit\u001b[1;34m(self, X, y, groups, **fit_params)\u001b[0m\n\u001b[0;32m    874\u001b[0m             \u001b[1;31m# we clone again after setting params in case some\u001b[0m\u001b[1;33m\u001b[0m\u001b[1;33m\u001b[0m\u001b[1;33m\u001b[0m\u001b[0m\n\u001b[0;32m    875\u001b[0m             \u001b[1;31m# of the params are estimators as well.\u001b[0m\u001b[1;33m\u001b[0m\u001b[1;33m\u001b[0m\u001b[1;33m\u001b[0m\u001b[0m\n\u001b[1;32m--> 876\u001b[1;33m             self.best_estimator_ = clone(clone(base_estimator).set_params(\n\u001b[0m\u001b[0;32m    877\u001b[0m                 **self.best_params_))\n\u001b[0;32m    878\u001b[0m             \u001b[0mrefit_start_time\u001b[0m \u001b[1;33m=\u001b[0m \u001b[0mtime\u001b[0m\u001b[1;33m.\u001b[0m\u001b[0mtime\u001b[0m\u001b[1;33m(\u001b[0m\u001b[1;33m)\u001b[0m\u001b[1;33m\u001b[0m\u001b[1;33m\u001b[0m\u001b[0m\n",
      "\u001b[1;32m~\\anaconda3\\lib\\site-packages\\sklearn\\utils\\validation.py\u001b[0m in \u001b[0;36minner_f\u001b[1;34m(*args, **kwargs)\u001b[0m\n\u001b[0;32m     61\u001b[0m             \u001b[0mextra_args\u001b[0m \u001b[1;33m=\u001b[0m \u001b[0mlen\u001b[0m\u001b[1;33m(\u001b[0m\u001b[0margs\u001b[0m\u001b[1;33m)\u001b[0m \u001b[1;33m-\u001b[0m \u001b[0mlen\u001b[0m\u001b[1;33m(\u001b[0m\u001b[0mall_args\u001b[0m\u001b[1;33m)\u001b[0m\u001b[1;33m\u001b[0m\u001b[1;33m\u001b[0m\u001b[0m\n\u001b[0;32m     62\u001b[0m             \u001b[1;32mif\u001b[0m \u001b[0mextra_args\u001b[0m \u001b[1;33m<=\u001b[0m \u001b[1;36m0\u001b[0m\u001b[1;33m:\u001b[0m\u001b[1;33m\u001b[0m\u001b[1;33m\u001b[0m\u001b[0m\n\u001b[1;32m---> 63\u001b[1;33m                 \u001b[1;32mreturn\u001b[0m \u001b[0mf\u001b[0m\u001b[1;33m(\u001b[0m\u001b[1;33m*\u001b[0m\u001b[0margs\u001b[0m\u001b[1;33m,\u001b[0m \u001b[1;33m**\u001b[0m\u001b[0mkwargs\u001b[0m\u001b[1;33m)\u001b[0m\u001b[1;33m\u001b[0m\u001b[1;33m\u001b[0m\u001b[0m\n\u001b[0m\u001b[0;32m     64\u001b[0m \u001b[1;33m\u001b[0m\u001b[0m\n\u001b[0;32m     65\u001b[0m             \u001b[1;31m# extra_args > 0\u001b[0m\u001b[1;33m\u001b[0m\u001b[1;33m\u001b[0m\u001b[1;33m\u001b[0m\u001b[0m\n",
      "\u001b[1;32m~\\anaconda3\\lib\\site-packages\\sklearn\\base.py\u001b[0m in \u001b[0;36mclone\u001b[1;34m(estimator, safe)\u001b[0m\n\u001b[0;32m     83\u001b[0m         \u001b[0mparam2\u001b[0m \u001b[1;33m=\u001b[0m \u001b[0mparams_set\u001b[0m\u001b[1;33m[\u001b[0m\u001b[0mname\u001b[0m\u001b[1;33m]\u001b[0m\u001b[1;33m\u001b[0m\u001b[1;33m\u001b[0m\u001b[0m\n\u001b[0;32m     84\u001b[0m         \u001b[1;32mif\u001b[0m \u001b[0mparam1\u001b[0m \u001b[1;32mis\u001b[0m \u001b[1;32mnot\u001b[0m \u001b[0mparam2\u001b[0m\u001b[1;33m:\u001b[0m\u001b[1;33m\u001b[0m\u001b[1;33m\u001b[0m\u001b[0m\n\u001b[1;32m---> 85\u001b[1;33m             raise RuntimeError('Cannot clone object %s, as the constructor '\n\u001b[0m\u001b[0;32m     86\u001b[0m                                \u001b[1;34m'either does not set or modifies parameter %s'\u001b[0m \u001b[1;33m%\u001b[0m\u001b[1;33m\u001b[0m\u001b[1;33m\u001b[0m\u001b[0m\n\u001b[0;32m     87\u001b[0m                                (estimator, name))\n",
      "\u001b[1;31mRuntimeError\u001b[0m: Cannot clone object RidgeClassifierCV(alphas=2.4000000000000004), as the constructor either does not set or modifies parameter alphas"
     ]
    }
   ],
   "source": [
    "search.fit(trainx, trainy).best_params_"
   ]
  },
  {
   "cell_type": "code",
   "execution_count": null,
   "id": "d9af6552",
   "metadata": {},
   "outputs": [],
   "source": []
  }
 ],
 "metadata": {
  "kernelspec": {
   "display_name": "Python 3",
   "language": "python",
   "name": "python3"
  },
  "language_info": {
   "codemirror_mode": {
    "name": "ipython",
    "version": 3
   },
   "file_extension": ".py",
   "mimetype": "text/x-python",
   "name": "python",
   "nbconvert_exporter": "python",
   "pygments_lexer": "ipython3",
   "version": "3.8.8"
  }
 },
 "nbformat": 4,
 "nbformat_minor": 5
}
